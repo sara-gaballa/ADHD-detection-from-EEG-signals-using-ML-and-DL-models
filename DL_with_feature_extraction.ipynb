{
  "nbformat": 4,
  "nbformat_minor": 0,
  "metadata": {
    "colab": {
      "provenance": [],
      "authorship_tag": "ABX9TyPezO4p3hMT98qxYPSgOcdq",
      "include_colab_link": true
    },
    "kernelspec": {
      "name": "python3",
      "display_name": "Python 3"
    },
    "language_info": {
      "name": "python"
    }
  },
  "cells": [
    {
      "cell_type": "markdown",
      "metadata": {
        "id": "view-in-github",
        "colab_type": "text"
      },
      "source": [
        "<a href=\"https://colab.research.google.com/github/sara-gaballa/ADHD-detection-from-EEG-signals-using-ML-and-DL-models/blob/main/DL_with_feature_extraction.ipynb\" target=\"_parent\"><img src=\"https://colab.research.google.com/assets/colab-badge.svg\" alt=\"Open In Colab\"/></a>"
      ]
    },
    {
      "cell_type": "code",
      "execution_count": null,
      "metadata": {
        "colab": {
          "base_uri": "https://localhost:8080/"
        },
        "id": "CqTFg2-d1rhx",
        "outputId": "707957cc-a973-4816-ebe1-32e1a813e486"
      },
      "outputs": [
        {
          "output_type": "stream",
          "name": "stdout",
          "text": [
            "Mounted at /content/drive\n"
          ]
        }
      ],
      "source": [
        "from google.colab import drive\n",
        "drive.mount(\"/content/drive\")"
      ]
    },
    {
      "cell_type": "markdown",
      "metadata": {
        "id": "uiaSoDoz4oy0"
      },
      "source": [
        "##Features functions"
      ]
    },
    {
      "cell_type": "code",
      "execution_count": null,
      "metadata": {
        "colab": {
          "base_uri": "https://localhost:8080/"
        },
        "id": "Dk8isbrZFa3Q",
        "outputId": "16cbc153-f07e-4636-da78-29d8538e6bb6"
      },
      "outputs": [
        {
          "output_type": "stream",
          "name": "stdout",
          "text": [
            "Collecting entropy\n",
            "  Downloading entropy-0.1.5.tar.gz (5.3 kB)\n",
            "  Preparing metadata (setup.py) ... \u001b[?25l\u001b[?25hdone\n",
            "Collecting colorama>=0.4.3 (from entropy)\n",
            "  Downloading colorama-0.4.6-py2.py3-none-any.whl (25 kB)\n",
            "Collecting docopt>=0.6.2 (from entropy)\n",
            "  Downloading docopt-0.6.2.tar.gz (25 kB)\n",
            "  Preparing metadata (setup.py) ... \u001b[?25l\u001b[?25hdone\n",
            "Requirement already satisfied: setuptools>=42.0.2 in /usr/local/lib/python3.10/dist-packages (from entropy) (67.7.2)\n",
            "Building wheels for collected packages: entropy, docopt\n",
            "  Building wheel for entropy (setup.py) ... \u001b[?25l\u001b[?25hdone\n",
            "  Created wheel for entropy: filename=entropy-0.1.5-py3-none-any.whl size=7177 sha256=1a8e0534b98ce60a06f9ea228b007aea6abc3f4671a5b2d4d74d49fb722af92b\n",
            "  Stored in directory: /root/.cache/pip/wheels/7b/ae/a5/3981344d7be76f408fc6c9c280cb1706f033d4c1018913897a\n",
            "  Building wheel for docopt (setup.py) ... \u001b[?25l\u001b[?25hdone\n",
            "  Created wheel for docopt: filename=docopt-0.6.2-py2.py3-none-any.whl size=13705 sha256=31fa4eec05907bde27adb11d8db881605fc6271bbfea8705aa275ffdd0f6456d\n",
            "  Stored in directory: /root/.cache/pip/wheels/fc/ab/d4/5da2067ac95b36618c629a5f93f809425700506f72c9732fac\n",
            "Successfully built entropy docopt\n",
            "Installing collected packages: docopt, colorama, entropy\n",
            "Successfully installed colorama-0.4.6 docopt-0.6.2 entropy-0.1.5\n"
          ]
        }
      ],
      "source": [
        "pip install entropy"
      ]
    },
    {
      "cell_type": "code",
      "execution_count": null,
      "metadata": {
        "colab": {
          "base_uri": "https://localhost:8080/"
        },
        "id": "0sRVIjZ-QCjk",
        "outputId": "7c76a670-2fd8-475a-c27e-e8e469bb1547"
      },
      "outputs": [
        {
          "output_type": "stream",
          "name": "stdout",
          "text": [
            "Collecting antropy\n",
            "  Downloading antropy-0.1.6.tar.gz (17 kB)\n",
            "  Installing build dependencies ... \u001b[?25l\u001b[?25hdone\n",
            "  Getting requirements to build wheel ... \u001b[?25l\u001b[?25hdone\n",
            "  Preparing metadata (pyproject.toml) ... \u001b[?25l\u001b[?25hdone\n",
            "Requirement already satisfied: numpy in /usr/local/lib/python3.10/dist-packages (from antropy) (1.23.5)\n",
            "Requirement already satisfied: scipy in /usr/local/lib/python3.10/dist-packages (from antropy) (1.11.2)\n",
            "Requirement already satisfied: scikit-learn in /usr/local/lib/python3.10/dist-packages (from antropy) (1.2.2)\n",
            "Collecting numba>=0.57 (from antropy)\n",
            "  Downloading numba-0.58.0-cp310-cp310-manylinux2014_x86_64.manylinux_2_17_x86_64.whl (3.6 MB)\n",
            "\u001b[2K     \u001b[90m━━━━━━━━━━━━━━━━━━━━━━━━━━━━━━━━━━━━━━━━\u001b[0m \u001b[32m3.6/3.6 MB\u001b[0m \u001b[31m13.0 MB/s\u001b[0m eta \u001b[36m0:00:00\u001b[0m\n",
            "\u001b[?25hCollecting stochastic (from antropy)\n",
            "  Downloading stochastic-0.7.0-py3-none-any.whl (48 kB)\n",
            "\u001b[2K     \u001b[90m━━━━━━━━━━━━━━━━━━━━━━━━━━━━━━━━━━━━━━━━\u001b[0m \u001b[32m48.1/48.1 kB\u001b[0m \u001b[31m3.1 MB/s\u001b[0m eta \u001b[36m0:00:00\u001b[0m\n",
            "\u001b[?25hCollecting llvmlite<0.42,>=0.41.0dev0 (from numba>=0.57->antropy)\n",
            "  Downloading llvmlite-0.41.0-cp310-cp310-manylinux_2_17_x86_64.manylinux2014_x86_64.whl (43.6 MB)\n",
            "\u001b[2K     \u001b[90m━━━━━━━━━━━━━━━━━━━━━━━━━━━━━━━━━━━━━━━━\u001b[0m \u001b[32m43.6/43.6 MB\u001b[0m \u001b[31m13.7 MB/s\u001b[0m eta \u001b[36m0:00:00\u001b[0m\n",
            "\u001b[?25hRequirement already satisfied: joblib>=1.1.1 in /usr/local/lib/python3.10/dist-packages (from scikit-learn->antropy) (1.3.2)\n",
            "Requirement already satisfied: threadpoolctl>=2.0.0 in /usr/local/lib/python3.10/dist-packages (from scikit-learn->antropy) (3.2.0)\n",
            "Building wheels for collected packages: antropy\n",
            "  Building wheel for antropy (pyproject.toml) ... \u001b[?25l\u001b[?25hdone\n",
            "  Created wheel for antropy: filename=antropy-0.1.6-py3-none-any.whl size=16878 sha256=5f72964069c720babcfb9a3d92ee1f8e502967ad5dd409ec3087c0d266db3c2e\n",
            "  Stored in directory: /root/.cache/pip/wheels/98/22/06/e91d7bb213c7133d5e2eb34258623e1e19928d5f05e1ee6812\n",
            "Successfully built antropy\n",
            "Installing collected packages: llvmlite, stochastic, numba, antropy\n",
            "  Attempting uninstall: llvmlite\n",
            "    Found existing installation: llvmlite 0.39.1\n",
            "    Uninstalling llvmlite-0.39.1:\n",
            "      Successfully uninstalled llvmlite-0.39.1\n",
            "  Attempting uninstall: numba\n",
            "    Found existing installation: numba 0.56.4\n",
            "    Uninstalling numba-0.56.4:\n",
            "      Successfully uninstalled numba-0.56.4\n",
            "Successfully installed antropy-0.1.6 llvmlite-0.41.0 numba-0.58.0 stochastic-0.7.0\n"
          ]
        }
      ],
      "source": [
        "pip install antropy"
      ]
    },
    {
      "cell_type": "code",
      "execution_count": null,
      "metadata": {
        "id": "cegWwmELFZeI"
      },
      "outputs": [],
      "source": [
        "def bandpower(data, sf, band, window_sec=None, relative=False):\n",
        "    \"\"\"Compute the average power of the signal x in a specific frequency band.\n",
        "\n",
        "    Parameters\n",
        "    ----------\n",
        "    data : 1d-array\n",
        "        Input signal in the time-domain.\n",
        "    sf : float\n",
        "        Sampling frequency of the data.\n",
        "    band : list\n",
        "        Lower and upper frequencies of the band of interest.\n",
        "    window_sec : float\n",
        "        Length of each window in seconds.\n",
        "        If None, window_sec = (1 / min(band)) * 2\n",
        "    relative : boolean\n",
        "        If True, return the relative power (= divided by the total power of the signal).\n",
        "        If False (default), return the absolute power.\n",
        "\n",
        "    Return\n",
        "    ------\n",
        "    bp : float\n",
        "        Absolute or relative band power.\n",
        "    \"\"\"\n",
        "    from scipy.signal import welch\n",
        "    from scipy.integrate import simps\n",
        "    band = np.asarray(band)\n",
        "    low, high = band\n",
        "\n",
        "    # Define window length\n",
        "    if window_sec is not None:\n",
        "        nperseg = window_sec * sf\n",
        "    else:\n",
        "        nperseg = (2 / low) * sf\n",
        "\n",
        "    # Compute the modified periodogram (Welch)\n",
        "    freqs, psd = welch(data, sf, nperseg=nperseg)\n",
        "\n",
        "    # Frequency resolution\n",
        "    freq_res = freqs[1] - freqs[0]\n",
        "\n",
        "    # Find closest indices of band in frequency vector\n",
        "    idx_band = np.logical_and(freqs >= low, freqs <= high)\n",
        "\n",
        "    # Integral approximation of the spectrum using Simpson's rule.\n",
        "    bp = simps(psd[idx_band], dx=freq_res)\n",
        "\n",
        "    if relative:\n",
        "        bp /= simps(psd, dx=freq_res)\n",
        "    return bp"
      ]
    },
    {
      "cell_type": "code",
      "execution_count": null,
      "metadata": {
        "colab": {
          "base_uri": "https://localhost:8080/"
        },
        "id": "SGJbdc4lGdCP",
        "outputId": "f56af2bc-d273-4e23-ad53-25a784623ecd"
      },
      "outputs": [
        {
          "output_type": "stream",
          "name": "stdout",
          "text": [
            "Collecting git+https://github.com/forrestbao/pyeeg.git\n",
            "  Cloning https://github.com/forrestbao/pyeeg.git to /tmp/pip-req-build-6glbdgke\n",
            "  Running command git clone --filter=blob:none --quiet https://github.com/forrestbao/pyeeg.git /tmp/pip-req-build-6glbdgke\n",
            "  Resolved https://github.com/forrestbao/pyeeg.git to commit a6c18bb093e4748f9d9c208535a6ae024a0802b8\n",
            "  Preparing metadata (setup.py) ... \u001b[?25l\u001b[?25hdone\n",
            "Requirement already satisfied: numpy>=1.9.2 in /usr/local/lib/python3.10/dist-packages (from pyeeg==0.4.4) (1.23.5)\n",
            "Building wheels for collected packages: pyeeg\n",
            "  Building wheel for pyeeg (setup.py) ... \u001b[?25l\u001b[?25hdone\n",
            "  Created wheel for pyeeg: filename=pyeeg-0.4.4-py2.py3-none-any.whl size=28111 sha256=05b7635da8ea1026455230d0cb7c1cb1083bcb653419d4b825d35502c360f879\n",
            "  Stored in directory: /tmp/pip-ephem-wheel-cache-_zrfg8o2/wheels/a8/c4/1a/cee09dcc12a11620066d35ace42e3c1e3bfbcc1db3a0ce7788\n",
            "Successfully built pyeeg\n",
            "Installing collected packages: pyeeg\n",
            "Successfully installed pyeeg-0.4.4\n"
          ]
        }
      ],
      "source": [
        "pip install git+https://github.com/forrestbao/pyeeg.git"
      ]
    },
    {
      "cell_type": "code",
      "execution_count": null,
      "metadata": {
        "colab": {
          "base_uri": "https://localhost:8080/"
        },
        "id": "QZu-tpqnCfJE",
        "outputId": "d129365a-595a-45cd-e997-1b61478faa38"
      },
      "outputs": [
        {
          "output_type": "stream",
          "name": "stdout",
          "text": [
            "Collecting git+https://github.com/raphaelvallat/entropy.git\n",
            "  Cloning https://github.com/raphaelvallat/entropy.git to /tmp/pip-req-build-w2g5h7bd\n",
            "  Running command git clone --filter=blob:none --quiet https://github.com/raphaelvallat/entropy.git /tmp/pip-req-build-w2g5h7bd\n",
            "  Resolved https://github.com/raphaelvallat/entropy.git to commit 216cd1c10148fe13fc02f56c69724028daec58c8\n",
            "  Preparing metadata (setup.py) ... \u001b[?25l\u001b[?25hdone\n",
            "Building wheels for collected packages: entropy\n",
            "  Building wheel for entropy (setup.py) ... \u001b[?25l\u001b[?25hdone\n",
            "  Created wheel for entropy: filename=entropy-0.1.3-py3-none-any.whl size=16108 sha256=eafcaefe6bae8f289a7eb8d2e11911362620b532c397551bcbca76e658098fab\n",
            "  Stored in directory: /tmp/pip-ephem-wheel-cache-ss_4po74/wheels/86/6f/2e/c44cb24d79e0dcdbb5938aae85d12613d99d925b56086cd096\n",
            "Successfully built entropy\n",
            "Installing collected packages: entropy\n",
            "  Attempting uninstall: entropy\n",
            "    Found existing installation: entropy 0.1.5\n",
            "    Uninstalling entropy-0.1.5:\n",
            "      Successfully uninstalled entropy-0.1.5\n",
            "Successfully installed entropy-0.1.3\n"
          ]
        }
      ],
      "source": [
        "pip install git+https://github.com/raphaelvallat/entropy.git"
      ]
    },
    {
      "cell_type": "code",
      "execution_count": null,
      "metadata": {
        "id": "uw18FqLnK_bE"
      },
      "outputs": [],
      "source": [
        "from scipy import stats\n",
        "import scipy as sp\n",
        "import antropy as ent\n",
        "\n",
        "def mean(data):\n",
        "    return np.mean(data,axis=-1)\n",
        "\n",
        "def std(data):\n",
        "    return np.std(data,axis=-1)\n",
        "\n",
        "def ptp(data):\n",
        "    return np.ptp(data,axis=-1)\n",
        "\n",
        "def var(data):\n",
        "        return np.var(data,axis=-1)\n",
        "\n",
        "def minim(data):\n",
        "      return np.min(data,axis=-1)\n",
        "\n",
        "def maxim(data):\n",
        "      return np.max(data,axis=-1)\n",
        "\n",
        "def rms(data): #root mean square\n",
        "      return  np.sqrt(np.mean(data**2,axis=-1))\n",
        "\n",
        "def abs_diffs_signal(data):\n",
        "    return np.sum(np.abs(np.diff(data,axis=-1)),axis=-1)\n",
        "\n",
        "def median(data):\n",
        "    return np.median(data, axis=-1)\n",
        "\n",
        "def q1(data):\n",
        "    return np.quantile(data, 0.25, axis=-1)\n",
        "\n",
        "def q3(data):\n",
        "    return np.quantile(data, 0.75, axis=-1)\n",
        "\n",
        "def skewness(data):\n",
        "    return stats.skew(data,axis=-1)\n",
        "\n",
        "def kurtosis(data):\n",
        "    return stats.kurtosis(data,axis=-1)\n",
        "\n",
        "def mobility(data):\n",
        "  mob, comp = ent.hjorth_params(data)\n",
        "  return mob\n",
        "\n",
        "def complexity(data):\n",
        "  mob, comp = ent.hjorth_params(data)\n",
        "  return comp\n",
        "\n",
        "def power(data):\n",
        "  return np.sum(data*data, 1) / data.size\n",
        "\n",
        "def energy(data):\n",
        "  return np.sum(data*data, 1)\n",
        "\n",
        "def fft(data):\n",
        "  return np.fft(data, axis=-1)"
      ]
    },
    {
      "cell_type": "markdown",
      "metadata": {
        "id": "SwKuEh3CD9HZ"
      },
      "source": [
        "PyEEG features"
      ]
    },
    {
      "cell_type": "code",
      "execution_count": null,
      "metadata": {
        "id": "CWOezzmWD_2Y"
      },
      "outputs": [],
      "source": [
        "import pyeeg\n",
        "from pyeeg import bin_power, pfd, hfd, svd_entropy, spectral_entropy, dfa, fisher_info, ap_entropy, hurst\n",
        "\n",
        "def pfd2(data):\n",
        "  res = []\n",
        "  for channel in data:\n",
        "    res.append(pfd(channel))\n",
        "  return res\n",
        "\n",
        "def hfd2(data):\n",
        "  res = []\n",
        "  for channel in data:\n",
        "    res.append(higuchi_fd(channel))\n",
        "  return res\n",
        "\n",
        "def svd(data):\n",
        "  res = []\n",
        "  for channel in data:\n",
        "    res.append(svd_entropy(channel))\n",
        "  return res\n",
        "\n",
        "def spe(data):\n",
        "  res = []\n",
        "  band = [0.5,4,8,12,30,64]\n",
        "  fs = 128\n",
        "  for channel in data:\n",
        "    Power, Power_Ratio = bin_power(channel, band, fs)\n",
        "    res.append(spectral_entropy(channel, band, fs, Power_Ratio=Power_Ratio))\n",
        "  return res\n",
        "\n",
        "def dfa2(data):\n",
        "  res = []\n",
        "  for channel in data:\n",
        "    res.append(detrended_fluctuation(channel))\n",
        "  return res\n",
        "\n",
        "def fish(data):\n",
        "  res = []\n",
        "  for channel in data:\n",
        "    res.append(fisher_info(channel))\n",
        "  return res\n",
        "\n",
        "def ape(data):\n",
        "  res = []\n",
        "  for channel in data:\n",
        "    res.append(ap_entropy(channel))\n",
        "  return res\n",
        "\n",
        "def hurst2(data):\n",
        "  res = []\n",
        "  for channel in data:\n",
        "    res.append(hurst(channel))\n",
        "  return res"
      ]
    },
    {
      "cell_type": "code",
      "execution_count": null,
      "metadata": {
        "colab": {
          "base_uri": "https://localhost:8080/"
        },
        "id": "W6F9AZeSCVhH",
        "outputId": "48c2471b-1e17-44a6-8ffb-330cc515d4ed"
      },
      "outputs": [
        {
          "output_type": "stream",
          "name": "stderr",
          "text": [
            "/usr/local/lib/python3.10/dist-packages/entropy/fractal.py:197: NumbaDeprecationWarning: \u001b[1mThe 'nopython' keyword argument was not supplied to the 'numba.jit' decorator. The implicit default value for this argument is currently False, but it will be changed to True in Numba 0.59.0. See https://numba.readthedocs.io/en/stable/reference/deprecation.html#deprecation-of-object-mode-fall-back-behaviour-when-using-jit for details.\u001b[0m\n",
            "  @jit('float64(float64[:], int32)')\n"
          ]
        }
      ],
      "source": [
        "from entropy import petrosian_fd, katz_fd, higuchi_fd, detrended_fluctuation"
      ]
    },
    {
      "cell_type": "code",
      "execution_count": null,
      "metadata": {
        "id": "AmuP_CjaT8K_"
      },
      "outputs": [],
      "source": [
        "def concatenate_features(data):\n",
        "    return np.concatenate((mean(data),std(data),ptp(data),var(data),minim(data),maxim(data),median(data), q1(data), q3(data),\n",
        "                          rms(data),abs_diffs_signal(data), mobility(data), complexity(data), power(data), energy(data),\n",
        "                          skewness(data),kurtosis(data),spe(data),katz_fd(data),hfd2(data),dfa2(data),\n",
        "                           petrosian_fd(data),hurst2(data)),axis=-1)"
      ]
    },
    {
      "cell_type": "markdown",
      "metadata": {
        "id": "fBkeXaLm4xmF"
      },
      "source": [
        "##Data 2 importing"
      ]
    },
    {
      "cell_type": "code",
      "execution_count": null,
      "metadata": {
        "id": "U3IP4jvK40Qk"
      },
      "outputs": [],
      "source": [
        "import os\n",
        "import pandas as pd\n",
        "\n",
        "folder_path = '/content/drive/MyDrive/Dataset 2/data files'"
      ]
    },
    {
      "cell_type": "code",
      "execution_count": null,
      "metadata": {
        "colab": {
          "base_uri": "https://localhost:8080/"
        },
        "id": "swZ-8ZVeBalM",
        "outputId": "15733e3c-2879-4d66-f2ff-96895cc4ec02"
      },
      "outputs": [
        {
          "output_type": "stream",
          "name": "stdout",
          "text": [
            "Collecting mat73\n",
            "  Downloading mat73-0.62-py3-none-any.whl (19 kB)\n",
            "Requirement already satisfied: h5py in /usr/local/lib/python3.10/dist-packages (from mat73) (3.9.0)\n",
            "Requirement already satisfied: numpy in /usr/local/lib/python3.10/dist-packages (from mat73) (1.23.5)\n",
            "Installing collected packages: mat73\n",
            "Successfully installed mat73-0.62\n"
          ]
        }
      ],
      "source": [
        "pip install mat73"
      ]
    },
    {
      "cell_type": "code",
      "execution_count": null,
      "metadata": {
        "id": "jpDrv9FS43pO"
      },
      "outputs": [],
      "source": [
        "import scipy.io\n",
        "import os\n",
        "import numpy as np\n",
        "import mat73\n",
        "\n",
        "# Prefix and suffix of the filenames\n",
        "prefix = 'd'\n",
        "suffix = '.mat'\n",
        "# Range of file numbers to read\n",
        "start_num = 1\n",
        "end_num = 7\n",
        "\n",
        "# Initialize an empty list to store the extracted data\n",
        "data_list = []\n",
        "\n",
        "# Loop over the desired file numbers and read the corresponding .mat files\n",
        "for num in range(start_num, end_num+1):\n",
        "  # Construct the filename\n",
        "  filename = prefix + str(num) + suffix\n",
        "  filepath = os.path.join(folder_path, filename)\n",
        "\n",
        "  # Check if file exists\n",
        "  if os.path.exists(filepath):\n",
        "      # Load the .mat file and extract the desired variables\n",
        "      mat = mat73.loadmat(filepath)\n",
        "\n",
        "      # Append the extracted data to the list of data\n",
        "      data_list.append(np.array(mat[prefix+str(num)]))\n",
        "  else:\n",
        "      print('File ' + filename + ' does not exist.')"
      ]
    },
    {
      "cell_type": "code",
      "execution_count": null,
      "metadata": {
        "colab": {
          "base_uri": "https://localhost:8080/"
        },
        "id": "DaizASHu46Q3",
        "outputId": "96942eab-9ce9-4b2c-abc6-728cd3e2f788"
      },
      "outputs": [
        {
          "output_type": "stream",
          "name": "stdout",
          "text": [
            "(33902, 56, 385)\n"
          ]
        }
      ],
      "source": [
        "# Concatente all arrays\n",
        "data = data_list[0]\n",
        "for i in range(1, 7):\n",
        "  data = np.concatenate((data, data_list[i]))\n",
        "print(data.shape)\n",
        "del(data_list)"
      ]
    },
    {
      "cell_type": "code",
      "execution_count": null,
      "metadata": {
        "colab": {
          "base_uri": "https://localhost:8080/"
        },
        "id": "g0Jz5vts49CS",
        "outputId": "3fb1b6c3-43d9-42c6-f9d1-ba05201da115"
      },
      "outputs": [
        {
          "output_type": "stream",
          "name": "stdout",
          "text": [
            "(33902,)\n"
          ]
        }
      ],
      "source": [
        "import numpy as np\n",
        "\n",
        "control_trials = 10129\n",
        "ADD_trials = 13031\n",
        "ADHD_trials = 10742\n",
        "\n",
        "HC = np.zeros(control_trials)\n",
        "ADD = np.ones(ADD_trials + ADHD_trials )\n",
        "# ADHD = np.full(ADHD_trials, \"ADHD\")  # Fill with 2\n",
        "# y = np.concatenate((HC, ADD, ADHD))\n",
        "y = np.concatenate((HC, ADD))\n",
        "print(y.shape)\n"
      ]
    },
    {
      "cell_type": "code",
      "execution_count": null,
      "metadata": {
        "id": "RVriOG6EVQ08"
      },
      "outputs": [],
      "source": [
        "# import numpy as np\n",
        "# from scipy import stats\n",
        "# from sklearn.feature_selection import SelectKBest, f_classif\n",
        "# from sklearn.ensemble import RandomForestClassifier\n",
        "# from sklearn.model_selection import train_test_split\n",
        "# from sklearn.metrics import accuracy_score\n",
        "\n",
        "# from tqdm import tqdm_notebook\n",
        "# features=[]\n",
        "# for trial in tqdm_notebook(data):\n",
        "#     features.append(concatenate_features(trial))\n",
        "# features=np.array(features)\n",
        "# features.shape\n",
        "\n",
        "# import numpy as np\n",
        "# # Saving the array\n",
        "# np.savetxt(\"/content/drive/MyDrive/Dataset 2/\" + \"features_pyeeg2_Data2.csv\", features, delimiter=\",\")"
      ]
    },
    {
      "cell_type": "code",
      "execution_count": null,
      "metadata": {
        "id": "pU0p9wN_uNnn"
      },
      "outputs": [],
      "source": [
        "# import numpy as np\n",
        "# # Saving the array\n",
        "# np.savetxt(\"/content/drive/MyDrive/Dataset 2/\" + \"features_pyeeg2_Data2.csv\", features, delimiter=\",\")"
      ]
    },
    {
      "cell_type": "code",
      "execution_count": null,
      "metadata": {
        "id": "PPif3WvUVT1H"
      },
      "outputs": [],
      "source": [
        "# import numpy as np\n",
        "# import matplotlib.pyplot as plt\n",
        "# from scipy.signal import welch\n",
        "# from scipy.integrate import simps\n",
        "\n",
        "# window_size = 2\n",
        "\n",
        "# # Function to compute PSD features for a single EEG channel\n",
        "# def compute_psd_features(eeg_channel, fs):\n",
        "#     # Compute the Power Spectral Density using Welch's method\n",
        "#     f, psd = welch(eeg_channel, fs=fs, nperseg=fs*window_size)  # Adjust nperseg based on your data\n",
        "\n",
        "#     # Define frequency bands (adjust as needed)\n",
        "#     delta_band = (0.5, 4)     # Delta (0.5-4 Hz)\n",
        "#     theta_band = (4, 8)       # Theta (4-8 Hz)\n",
        "#     alpha_band = (8, 13)      # Alpha (8-12 Hz)\n",
        "#     beta_band = (13, 30)      # Beta (12-30 Hz)\n",
        "#     gamma_band = (30, 64)     # Gamma (30-64 Hz)\n",
        "\n",
        "#     # Calculate the mean power in each frequency band\n",
        "#     delta_power = np.mean(psd[(f >= delta_band[0]) & (f < delta_band[1])])\n",
        "\n",
        "#     theta_power = np.mean(psd[(f >= theta_band[0]) & (f < theta_band[1])])\n",
        "\n",
        "#     alpha_power = np.mean(psd[(f >= alpha_band[0]) & (f < alpha_band[1])])\n",
        "\n",
        "#     beta_power = np.mean(psd[(f >= beta_band[0]) & (f < beta_band[1])])\n",
        "\n",
        "#     gamma_power = np.mean(psd[(f >= gamma_band[0]) & (f < gamma_band[1])])\n",
        "\n",
        "#     return delta_power, theta_power, alpha_power, beta_power, gamma_power\n",
        "\n"
      ]
    },
    {
      "cell_type": "code",
      "execution_count": null,
      "metadata": {
        "id": "Zo39pUdCVepP"
      },
      "outputs": [],
      "source": [
        "# # Sample 3D EEG data (replace this with your actual EEG data)\n",
        "# num_samples = data.shape[0]\n",
        "# num_channels = data.shape[1]\n",
        "# num_timesteps = data.shape[2]\n",
        "# fs = 500  # Sampling frequency in Hz\n",
        "\n",
        "# # Initialize lists to store PSD features for each EEG channel\n",
        "# delta_powers = []\n",
        "# theta_powers = []\n",
        "# alpha_powers = []\n",
        "# beta_powers = []\n",
        "# gamma_powers = []\n",
        "\n",
        "# # Loop through each EEG sample and each EEG channel to compute PSD features\n",
        "# for sample in range(num_samples):\n",
        "#     sample_delta_powers = []\n",
        "#     sample_theta_powers = []\n",
        "#     sample_alpha_powers = []\n",
        "#     sample_beta_powers = []\n",
        "#     sample_gamma_powers = []\n",
        "\n",
        "#     for channel in range(num_channels):\n",
        "#         eeg_channel = data[sample, channel, :]\n",
        "#         delta_power, theta_power, alpha_power, beta_power, gamma_power = compute_psd_features(eeg_channel, fs)\n",
        "\n",
        "#         sample_delta_powers.append(delta_power)\n",
        "#         sample_theta_powers.append(theta_power)\n",
        "#         sample_alpha_powers.append(alpha_power)\n",
        "#         sample_beta_powers.append(beta_power)\n",
        "#         sample_gamma_powers.append(gamma_power)\n",
        "\n",
        "#     delta_powers.append(sample_delta_powers)\n",
        "#     theta_powers.append(sample_theta_powers)\n",
        "#     alpha_powers.append(sample_alpha_powers)\n",
        "#     beta_powers.append(sample_beta_powers)\n",
        "#     gamma_powers.append(sample_gamma_powers)\n"
      ]
    },
    {
      "cell_type": "code",
      "execution_count": null,
      "metadata": {
        "id": "g2hwMsXtViG6"
      },
      "outputs": [],
      "source": [
        "import numpy as np\n",
        "import pandas as pd\n",
        "import matplotlib.pyplot as plt\n",
        "import seaborn as sns\n",
        "from sklearn.model_selection import train_test_split\n",
        "from sklearn.neighbors import KNeighborsClassifier\n",
        "from sklearn.metrics import accuracy_score, classification_report, confusion_matrix"
      ]
    },
    {
      "cell_type": "code",
      "execution_count": null,
      "metadata": {
        "id": "8i10EFxXVi3p"
      },
      "outputs": [],
      "source": [
        "# # Combine the extracted PSD features into a single feature matrix\n",
        "# psd_features = np.column_stack((delta_powers, theta_powers, alpha_powers, beta_powers, gamma_powers))\n",
        "# nfeatures = np.hstack((features, psd_features))"
      ]
    },
    {
      "cell_type": "markdown",
      "metadata": {
        "id": "KEE6BhHaVuzM"
      },
      "source": [
        "Save the calculated features\n"
      ]
    },
    {
      "cell_type": "code",
      "execution_count": null,
      "metadata": {
        "id": "XEuOboWoVoaP"
      },
      "outputs": [],
      "source": [
        "# # Saving the array\n",
        "# np.savetxt(\"/content/drive/MyDrive/Dataset 2/\" + \"ffffffeatures_pyeeg2_Data2.csv\", nfeatures, delimiter=\",\")"
      ]
    },
    {
      "cell_type": "markdown",
      "metadata": {
        "id": "EaKloZV3V3T_"
      },
      "source": [
        "Reading from file\n"
      ]
    },
    {
      "cell_type": "code",
      "execution_count": null,
      "metadata": {
        "colab": {
          "base_uri": "https://localhost:8080/"
        },
        "id": "vYtkopKQV7M8",
        "outputId": "7d3f34ec-8bd8-4448-97b1-988e9a8d27b2"
      },
      "outputs": [
        {
          "output_type": "stream",
          "name": "stdout",
          "text": [
            "(33902, 1288)\n"
          ]
        }
      ],
      "source": [
        "# Reading the csv into an array (for the first features)\n",
        "nnfeatures = np.genfromtxt(\"/content/drive/MyDrive/Dataset 2/features_pyeeg2_Data2.csv\", delimiter=\",\")\n",
        "print(nnfeatures.shape)"
      ]
    },
    {
      "cell_type": "code",
      "execution_count": null,
      "metadata": {
        "colab": {
          "base_uri": "https://localhost:8080/"
        },
        "id": "2aCy0rTA-M7W",
        "outputId": "7d65f08f-526a-4f90-9718-ad476ab2e7d6"
      },
      "outputs": [
        {
          "output_type": "stream",
          "name": "stdout",
          "text": [
            "(33902, 1568)\n"
          ]
        }
      ],
      "source": [
        "# Reading the csv into an array (for both features)\n",
        "nfeatures = np.genfromtxt(\"/content/drive/MyDrive/Dataset 2/ffffffeatures_pyeeg2_Data2.csv\", delimiter=\",\")\n",
        "print(nfeatures.shape)"
      ]
    },
    {
      "cell_type": "code",
      "execution_count": null,
      "metadata": {
        "id": "r4ZqbR8rNVSN"
      },
      "outputs": [],
      "source": [
        "import numpy as np\n",
        "import pandas as pd\n",
        "from sklearn.model_selection import train_test_split\n",
        "from sklearn.tree import DecisionTreeClassifier\n",
        "from sklearn.metrics import accuracy_score, classification_report, confusion_matrix\n",
        "import numpy as np\n",
        "from scipy import stats\n",
        "from sklearn.feature_selection import SelectKBest, f_classif\n",
        "from sklearn.ensemble import RandomForestClassifier\n",
        "from sklearn.model_selection import train_test_split\n",
        "from sklearn.metrics import accuracy_score, confusion_matrix\n",
        "import matplotlib.pyplot as plt  # Importing the 'pyplot' module\n",
        "import seaborn as sns\n",
        "import numpy as np\n",
        "from scipy import stats\n",
        "from sklearn.feature_selection import SelectKBest, f_classif, RFE\n",
        "from sklearn.linear_model import MultiTaskLasso, Lasso\n",
        "from sklearn.ensemble import RandomForestClassifier\n",
        "from sklearn.model_selection import train_test_split\n",
        "from sklearn.metrics import accuracy_score, confusion_matrix\n",
        "import matplotlib.pyplot as plt\n",
        "import seaborn as sns\n",
        "from sklearn.preprocessing import StandardScaler\n",
        "from sklearn.pipeline import Pipeline\n",
        "from sklearn.model_selection import train_test_split, GridSearchCV"
      ]
    },
    {
      "cell_type": "code",
      "execution_count": null,
      "metadata": {
        "id": "gCaKfSkBHAX8"
      },
      "outputs": [],
      "source": [
        "import numpy as np\n",
        "\n",
        "# Assuming nfeatures is your input numpy array\n",
        "# Replace NaN values with zeros\n",
        "nfeatures_cleaned = np.nan_to_num(nfeatures, nan=0.0)\n",
        "\n"
      ]
    },
    {
      "cell_type": "markdown",
      "metadata": {
        "id": "mbVTMARXsiAs"
      },
      "source": [
        "### Mariam"
      ]
    },
    {
      "cell_type": "code",
      "execution_count": null,
      "metadata": {
        "id": "D-KeWxDsqpI_"
      },
      "outputs": [],
      "source": [
        "X_train, X_test, y_train, y_test = train_test_split(nfeatures_cleaned, y, test_size=0.2, random_state=42)"
      ]
    },
    {
      "cell_type": "code",
      "execution_count": null,
      "metadata": {
        "id": "RnW6Ji8Xpc8-"
      },
      "outputs": [],
      "source": [
        "pipeline = Pipeline([\n",
        "                     ('scaler',StandardScaler()),\n",
        "                     ('model',Lasso())\n",
        "])\n",
        "search = GridSearchCV(pipeline,\n",
        "                      {'model__alpha':[0.00001, 0.0001, 0.001, 0.01, 0.1]},\n",
        "                      cv = 5, scoring=\"neg_mean_squared_error\",verbose=3\n",
        "                      )"
      ]
    },
    {
      "cell_type": "code",
      "execution_count": null,
      "metadata": {
        "colab": {
          "base_uri": "https://localhost:8080/"
        },
        "id": "7YdLK0YvpnMR",
        "outputId": "e09f3481-7310-4004-de2f-50a0cc6f5859"
      },
      "outputs": [
        {
          "output_type": "stream",
          "name": "stdout",
          "text": [
            "Fitting 5 folds for each of 5 candidates, totalling 25 fits\n"
          ]
        },
        {
          "output_type": "stream",
          "name": "stderr",
          "text": [
            "/usr/local/lib/python3.10/dist-packages/sklearn/linear_model/_coordinate_descent.py:631: ConvergenceWarning: Objective did not converge. You might want to increase the number of iterations, check the scale of the features or consider increasing regularisation. Duality gap: 1.055e+03, tolerance: 4.534e-01\n",
            "  model = cd_fast.enet_coordinate_descent(\n"
          ]
        },
        {
          "output_type": "stream",
          "name": "stdout",
          "text": [
            "[CV 1/5] END ...............model__alpha=1e-05;, score=-0.126 total time= 1.1min\n"
          ]
        },
        {
          "output_type": "stream",
          "name": "stderr",
          "text": [
            "/usr/local/lib/python3.10/dist-packages/sklearn/linear_model/_coordinate_descent.py:631: ConvergenceWarning: Objective did not converge. You might want to increase the number of iterations, check the scale of the features or consider increasing regularisation. Duality gap: 1.052e+03, tolerance: 4.553e-01\n",
            "  model = cd_fast.enet_coordinate_descent(\n"
          ]
        },
        {
          "output_type": "stream",
          "name": "stdout",
          "text": [
            "[CV 2/5] END ...............model__alpha=1e-05;, score=-0.164 total time= 1.1min\n"
          ]
        },
        {
          "output_type": "stream",
          "name": "stderr",
          "text": [
            "/usr/local/lib/python3.10/dist-packages/sklearn/linear_model/_coordinate_descent.py:631: ConvergenceWarning: Objective did not converge. You might want to increase the number of iterations, check the scale of the features or consider increasing regularisation. Duality gap: 1.067e+03, tolerance: 4.555e-01\n",
            "  model = cd_fast.enet_coordinate_descent(\n"
          ]
        },
        {
          "output_type": "stream",
          "name": "stdout",
          "text": [
            "[CV 3/5] END ...............model__alpha=1e-05;, score=-0.133 total time= 1.0min\n"
          ]
        },
        {
          "output_type": "stream",
          "name": "stderr",
          "text": [
            "/usr/local/lib/python3.10/dist-packages/sklearn/linear_model/_coordinate_descent.py:631: ConvergenceWarning: Objective did not converge. You might want to increase the number of iterations, check the scale of the features or consider increasing regularisation. Duality gap: 1.060e+03, tolerance: 4.538e-01\n",
            "  model = cd_fast.enet_coordinate_descent(\n"
          ]
        },
        {
          "output_type": "stream",
          "name": "stdout",
          "text": [
            "[CV 4/5] END ...............model__alpha=1e-05;, score=-0.240 total time= 1.0min\n"
          ]
        },
        {
          "output_type": "stream",
          "name": "stderr",
          "text": [
            "/usr/local/lib/python3.10/dist-packages/sklearn/linear_model/_coordinate_descent.py:631: ConvergenceWarning: Objective did not converge. You might want to increase the number of iterations, check the scale of the features or consider increasing regularisation. Duality gap: 1.075e+03, tolerance: 4.574e-01\n",
            "  model = cd_fast.enet_coordinate_descent(\n"
          ]
        },
        {
          "output_type": "stream",
          "name": "stdout",
          "text": [
            "[CV 5/5] END ...............model__alpha=1e-05;, score=-0.137 total time= 1.1min\n"
          ]
        },
        {
          "output_type": "stream",
          "name": "stderr",
          "text": [
            "/usr/local/lib/python3.10/dist-packages/sklearn/linear_model/_coordinate_descent.py:631: ConvergenceWarning: Objective did not converge. You might want to increase the number of iterations, check the scale of the features or consider increasing regularisation. Duality gap: 5.603e+02, tolerance: 4.534e-01\n",
            "  model = cd_fast.enet_coordinate_descent(\n"
          ]
        },
        {
          "output_type": "stream",
          "name": "stdout",
          "text": [
            "[CV 1/5] END ..............model__alpha=0.0001;, score=-0.123 total time= 1.1min\n"
          ]
        },
        {
          "output_type": "stream",
          "name": "stderr",
          "text": [
            "/usr/local/lib/python3.10/dist-packages/sklearn/linear_model/_coordinate_descent.py:631: ConvergenceWarning: Objective did not converge. You might want to increase the number of iterations, check the scale of the features or consider increasing regularisation. Duality gap: 5.378e+02, tolerance: 4.553e-01\n",
            "  model = cd_fast.enet_coordinate_descent(\n"
          ]
        },
        {
          "output_type": "stream",
          "name": "stdout",
          "text": [
            "[CV 2/5] END ..............model__alpha=0.0001;, score=-0.152 total time= 1.1min\n"
          ]
        },
        {
          "output_type": "stream",
          "name": "stderr",
          "text": [
            "/usr/local/lib/python3.10/dist-packages/sklearn/linear_model/_coordinate_descent.py:631: ConvergenceWarning: Objective did not converge. You might want to increase the number of iterations, check the scale of the features or consider increasing regularisation. Duality gap: 5.599e+02, tolerance: 4.555e-01\n",
            "  model = cd_fast.enet_coordinate_descent(\n"
          ]
        },
        {
          "output_type": "stream",
          "name": "stdout",
          "text": [
            "[CV 3/5] END ..............model__alpha=0.0001;, score=-0.127 total time= 1.1min\n"
          ]
        },
        {
          "output_type": "stream",
          "name": "stderr",
          "text": [
            "/usr/local/lib/python3.10/dist-packages/sklearn/linear_model/_coordinate_descent.py:631: ConvergenceWarning: Objective did not converge. You might want to increase the number of iterations, check the scale of the features or consider increasing regularisation. Duality gap: 6.079e+02, tolerance: 4.538e-01\n",
            "  model = cd_fast.enet_coordinate_descent(\n"
          ]
        },
        {
          "output_type": "stream",
          "name": "stdout",
          "text": [
            "[CV 4/5] END ..............model__alpha=0.0001;, score=-0.195 total time=  59.3s\n"
          ]
        },
        {
          "output_type": "stream",
          "name": "stderr",
          "text": [
            "/usr/local/lib/python3.10/dist-packages/sklearn/linear_model/_coordinate_descent.py:631: ConvergenceWarning: Objective did not converge. You might want to increase the number of iterations, check the scale of the features or consider increasing regularisation. Duality gap: 5.676e+02, tolerance: 4.574e-01\n",
            "  model = cd_fast.enet_coordinate_descent(\n"
          ]
        },
        {
          "output_type": "stream",
          "name": "stdout",
          "text": [
            "[CV 5/5] END ..............model__alpha=0.0001;, score=-0.129 total time= 1.1min\n"
          ]
        },
        {
          "output_type": "stream",
          "name": "stderr",
          "text": [
            "/usr/local/lib/python3.10/dist-packages/sklearn/linear_model/_coordinate_descent.py:631: ConvergenceWarning: Objective did not converge. You might want to increase the number of iterations, check the scale of the features or consider increasing regularisation. Duality gap: 2.387e+01, tolerance: 4.534e-01\n",
            "  model = cd_fast.enet_coordinate_descent(\n"
          ]
        },
        {
          "output_type": "stream",
          "name": "stdout",
          "text": [
            "[CV 1/5] END ...............model__alpha=0.001;, score=-0.126 total time=  50.2s\n"
          ]
        },
        {
          "output_type": "stream",
          "name": "stderr",
          "text": [
            "/usr/local/lib/python3.10/dist-packages/sklearn/linear_model/_coordinate_descent.py:631: ConvergenceWarning: Objective did not converge. You might want to increase the number of iterations, check the scale of the features or consider increasing regularisation. Duality gap: 2.485e+01, tolerance: 4.553e-01\n",
            "  model = cd_fast.enet_coordinate_descent(\n"
          ]
        },
        {
          "output_type": "stream",
          "name": "stdout",
          "text": [
            "[CV 2/5] END ...............model__alpha=0.001;, score=-0.127 total time=  50.4s\n"
          ]
        },
        {
          "output_type": "stream",
          "name": "stderr",
          "text": [
            "/usr/local/lib/python3.10/dist-packages/sklearn/linear_model/_coordinate_descent.py:631: ConvergenceWarning: Objective did not converge. You might want to increase the number of iterations, check the scale of the features or consider increasing regularisation. Duality gap: 3.014e+01, tolerance: 4.555e-01\n",
            "  model = cd_fast.enet_coordinate_descent(\n"
          ]
        },
        {
          "output_type": "stream",
          "name": "stdout",
          "text": [
            "[CV 3/5] END ...............model__alpha=0.001;, score=-0.121 total time=  51.5s\n"
          ]
        },
        {
          "output_type": "stream",
          "name": "stderr",
          "text": [
            "/usr/local/lib/python3.10/dist-packages/sklearn/linear_model/_coordinate_descent.py:631: ConvergenceWarning: Objective did not converge. You might want to increase the number of iterations, check the scale of the features or consider increasing regularisation. Duality gap: 2.362e+01, tolerance: 4.538e-01\n",
            "  model = cd_fast.enet_coordinate_descent(\n"
          ]
        },
        {
          "output_type": "stream",
          "name": "stdout",
          "text": [
            "[CV 4/5] END ...............model__alpha=0.001;, score=-0.136 total time=  50.3s\n"
          ]
        },
        {
          "output_type": "stream",
          "name": "stderr",
          "text": [
            "/usr/local/lib/python3.10/dist-packages/sklearn/linear_model/_coordinate_descent.py:631: ConvergenceWarning: Objective did not converge. You might want to increase the number of iterations, check the scale of the features or consider increasing regularisation. Duality gap: 3.738e+01, tolerance: 4.574e-01\n",
            "  model = cd_fast.enet_coordinate_descent(\n"
          ]
        },
        {
          "output_type": "stream",
          "name": "stdout",
          "text": [
            "[CV 5/5] END ...............model__alpha=0.001;, score=-0.121 total time=  54.2s\n",
            "[CV 1/5] END ................model__alpha=0.01;, score=-0.161 total time=   9.8s\n",
            "[CV 2/5] END ................model__alpha=0.01;, score=-0.158 total time=  11.4s\n",
            "[CV 3/5] END ................model__alpha=0.01;, score=-0.154 total time=  12.5s\n",
            "[CV 4/5] END ................model__alpha=0.01;, score=-0.159 total time=   9.0s\n",
            "[CV 5/5] END ................model__alpha=0.01;, score=-0.154 total time=   9.4s\n",
            "[CV 1/5] END .................model__alpha=0.1;, score=-0.213 total time=   1.8s\n",
            "[CV 2/5] END .................model__alpha=0.1;, score=-0.209 total time=   1.7s\n",
            "[CV 3/5] END .................model__alpha=0.1;, score=-0.209 total time=   2.0s\n",
            "[CV 4/5] END .................model__alpha=0.1;, score=-0.212 total time=   1.6s\n",
            "[CV 5/5] END .................model__alpha=0.1;, score=-0.205 total time=   1.8s\n"
          ]
        },
        {
          "output_type": "stream",
          "name": "stderr",
          "text": [
            "/usr/local/lib/python3.10/dist-packages/sklearn/linear_model/_coordinate_descent.py:631: ConvergenceWarning: Objective did not converge. You might want to increase the number of iterations, check the scale of the features or consider increasing regularisation. Duality gap: 3.665e+01, tolerance: 5.688e-01\n",
            "  model = cd_fast.enet_coordinate_descent(\n"
          ]
        },
        {
          "output_type": "execute_result",
          "data": {
            "text/plain": [
              "{'model__alpha': 0.001}"
            ]
          },
          "metadata": {},
          "execution_count": 29
        }
      ],
      "source": [
        "search.fit(X_train,y_train)\n",
        "search.best_params_"
      ]
    },
    {
      "cell_type": "code",
      "execution_count": null,
      "metadata": {
        "id": "ugdSXz8Xpuqr"
      },
      "outputs": [],
      "source": [
        "coefficients = search.best_estimator_.named_steps['model'].coef_\n",
        "importance = np.abs(coefficients)\n",
        "f = [i for i in range(X_train.shape[1])]\n"
      ]
    },
    {
      "cell_type": "code",
      "execution_count": null,
      "metadata": {
        "colab": {
          "base_uri": "https://localhost:8080/"
        },
        "id": "IAI8qNI9y2F5",
        "outputId": "68424e10-74cb-4262-f791-17d488596f41"
      },
      "outputs": [
        {
          "output_type": "execute_result",
          "data": {
            "text/plain": [
              "(85,)"
            ]
          },
          "metadata": {},
          "execution_count": 31
        }
      ],
      "source": [
        "sel = np.array(f)[importance > 0.02]\n",
        "sel.shape"
      ]
    },
    {
      "cell_type": "code",
      "execution_count": null,
      "metadata": {
        "colab": {
          "base_uri": "https://localhost:8080/"
        },
        "id": "DJ_QBexUkbuz",
        "outputId": "46fa2e12-a7e9-4416-e0cc-87e4ec4f0f3d"
      },
      "outputs": [
        {
          "output_type": "execute_result",
          "data": {
            "text/plain": [
              "array([  56,   67,   70,   73,   76,   77,   80,   84,   86,   87,   93,\n",
              "         95,   96,  105,  111,  168,  182,  189,  192,  205,  221,  223,\n",
              "        521,  553,  562,  565,  571,  572,  574,  576,  580,  584,  591,\n",
              "        592,  593,  596,  603,  606,  608,  613,  614,  623,  624,  627,\n",
              "        628,  630,  632,  639,  643,  651,  659,  660,  661,  663,  667,\n",
              "        668,  671,  684,  695,  707,  709,  711,  723, 1073, 1082, 1083,\n",
              "       1086, 1098, 1099, 1104, 1106, 1107, 1109, 1111, 1115, 1116, 1225,\n",
              "       1431, 1432, 1456, 1457, 1480, 1511, 1528, 1533])"
            ]
          },
          "metadata": {},
          "execution_count": 32
        }
      ],
      "source": [
        "sel"
      ]
    },
    {
      "cell_type": "code",
      "execution_count": null,
      "metadata": {
        "colab": {
          "base_uri": "https://localhost:8080/"
        },
        "id": "pAtF6oVKwBlP",
        "outputId": "78ababdd-49d3-4a1a-9538-b20705164609"
      },
      "outputs": [
        {
          "output_type": "execute_result",
          "data": {
            "text/plain": [
              "(27121, 85)"
            ]
          },
          "metadata": {},
          "execution_count": 33
        }
      ],
      "source": [
        "X_train_lasso_selected = X_train[:, sel]\n",
        "X_test_lasso_selected = X_test[:, sel]\n",
        "X_train_lasso_selected.shape"
      ]
    },
    {
      "cell_type": "code",
      "execution_count": null,
      "metadata": {
        "id": "L9YtpEjW4BnH"
      },
      "outputs": [],
      "source": [
        "from sklearn.model_selection import train_test_split\n",
        "from sklearn.metrics import classification_report, accuracy_score, confusion_matrix\n",
        "from sklearn.preprocessing import LabelEncoder,MinMaxScaler, StandardScaler\n",
        "from sklearn.utils import shuffle\n",
        "from sklearn.utils import class_weight\n",
        "from keras.models import Sequential\n",
        "from keras.layers import Dense, Dropout, Activation, Flatten ,LSTM,RepeatVector,TimeDistributed,Bidirectional,Input,Concatenate,GRU,Conv1D,BatchNormalization,LeakyReLU,MaxPool1D,GlobalAveragePooling1D,Dense,Dropout,AveragePooling1D\n",
        "from tensorflow.keras.models import Model\n",
        "from keras.optimizers import Adam\n",
        "#from keras.layers import  Conv2D, MaxPooling2D\n",
        "from keras.utils import to_categorical\n",
        "import tensorflow as tf\n",
        "from sklearn.preprocessing import LabelEncoder\n",
        "from sklearn.metrics import accuracy_score,precision_score, recall_score, f1_score, roc_auc_score\n",
        "from tensorflow.keras.backend import clear_session"
      ]
    },
    {
      "cell_type": "code",
      "execution_count": null,
      "metadata": {
        "id": "zLor30Ee3pg3"
      },
      "outputs": [],
      "source": [
        "ne = 128\n",
        "lr = 0.00001\n",
        "\n",
        "def modeling(x_train, y_train, mod):\n",
        "    clear_session()\n",
        "    model = tf.keras.Sequential()\n",
        "\n",
        "    if mod == 'BI_LSTM':\n",
        "        model.add(tf.keras.layers.Bidirectional(tf.keras.layers.LSTM(ne, activation='tanh', return_sequences=True), input_shape=(X_train_lasso_selected.shape[1], 1)))\n",
        "        model.add(tf.keras.layers.Bidirectional(tf.keras.layers.LSTM(ne, return_sequences=True)))\n",
        "        model.add(tf.keras.layers.Bidirectional(tf.keras.layers.LSTM(ne, return_sequences=True)))\n",
        "        model.add(tf.keras.layers.Flatten())\n",
        "        model.add(tf.keras.layers.Dense(units=2, activation='softmax'))\n",
        "        model.compile(optimizer=Adam(lr), loss='sparse_categorical_crossentropy', metrics=['accuracy'])\n",
        "\n",
        "    elif mod == 'LSTM':\n",
        "        model.add(tf.keras.layers.LSTM(ne, activation='tanh', return_sequences=True, input_shape=(X_train_lasso_selected.shape[1], X_train_lasso_selected.shape[2])))  # Adjust input shape\n",
        "        model.add(tf.keras.layers.LSTM(ne, return_sequences=True))\n",
        "        model.add(tf.keras.layers.LSTM(ne, return_sequences=True))\n",
        "        model.add(tf.keras.layers.Flatten())\n",
        "        model.add(tf.keras.layers.Dense(units=2, activation='softmax'))\n",
        "        model.compile(optimizer=Adam(lr), loss='sparse_categorical_crossentropy', metrics=['accuracy'])\n",
        "\n",
        "    elif mod == 'GRU':\n",
        "        model.add(tf.keras.layers.GRU(ne, activation='tanh', return_sequences=True, input_shape=(x_train.shape[1], 1), reset_after=True, recurrent_activation='sigmoid'))  # Adjust input shape\n",
        "        model.add(tf.keras.layers.GRU(ne, return_sequences=True, reset_after=True, recurrent_activation='sigmoid'))\n",
        "        model.add(tf.keras.layers.Flatten())\n",
        "        model.add(tf.keras.layers.Dense(units=2, activation='softmax'))\n",
        "        model.compile(optimizer=Adam(lr), loss='sparse_categorical_crossentropy', metrics=['accuracy'])\n",
        "\n",
        "    elif mod == 'CNN':\n",
        "        model.add(Conv1D(filters=10, kernel_size=1, strides=1, input_shape=(X_train_lasso_selected.shape[1], X_train_lasso_selected.shape[2])))  # Adjust input shape\n",
        "        model.add(BatchNormalization())\n",
        "        model.add(LeakyReLU())\n",
        "        model.add(MaxPool1D(pool_size=2, strides=2))\n",
        "        model.add(Conv1D(filters=10, kernel_size=1, strides=1))\n",
        "        model.add(LeakyReLU())\n",
        "        model.add(MaxPool1D(pool_size=2, strides=2))\n",
        "        model.add(Conv1D(filters=10, kernel_size=1, strides=1))\n",
        "        model.add(LeakyReLU())\n",
        "        model.add(AveragePooling1D(pool_size=2, strides=2))\n",
        "        model.add(Conv1D(filters=10, kernel_size=1, strides=1))\n",
        "        model.add(LeakyReLU())\n",
        "        model.add(AveragePooling1D(pool_size=2, strides=2))\n",
        "        model.add(Conv1D(filters=10, kernel_size=1, strides=1))\n",
        "        model.add(LeakyReLU())\n",
        "        model.add(GlobalAveragePooling1D())\n",
        "        model.add(tf.keras.layers.Flatten())\n",
        "        model.add(Dense(units=2, activation='softmax'))\n",
        "        model.compile(optimizer=Adam(lr), loss='sparse_categorical_crossentropy', metrics=['accuracy'])\n",
        "\n",
        "    h = model.fit(\n",
        "        x_train,\n",
        "        y_train,\n",
        "        validation_split=0.1,\n",
        "        batch_size=32,\n",
        "        epochs=15,\n",
        "        callbacks=[tf.keras.callbacks.EarlyStopping(monitor='val_loss', patience=5, restore_best_weights=True)],\n",
        "        verbose=1\n",
        "    )\n",
        "    return model, h\n"
      ]
    },
    {
      "cell_type": "markdown",
      "source": [
        "##BI_LSTM"
      ],
      "metadata": {
        "id": "YEBAE-AUaHJ9"
      }
    },
    {
      "cell_type": "code",
      "execution_count": null,
      "metadata": {
        "colab": {
          "base_uri": "https://localhost:8080/"
        },
        "id": "-iWFgkfs4GH6",
        "outputId": "dfd045b0-08a2-4eca-b4ac-5c7e5536927b"
      },
      "outputs": [
        {
          "output_type": "stream",
          "name": "stdout",
          "text": [
            "Epoch 1/15\n",
            "763/763 [==============================] - 901s 1s/step - loss: 0.5937 - accuracy: 0.6999 - val_loss: 0.5838 - val_accuracy: 0.7055\n",
            "Epoch 2/15\n",
            "763/763 [==============================] - 848s 1s/step - loss: 0.5878 - accuracy: 0.7021 - val_loss: 0.5840 - val_accuracy: 0.7081\n",
            "Epoch 3/15\n",
            "763/763 [==============================] - 815s 1s/step - loss: 0.5845 - accuracy: 0.7037 - val_loss: 0.5771 - val_accuracy: 0.7055\n",
            "Epoch 4/15\n",
            "763/763 [==============================] - 856s 1s/step - loss: 0.5823 - accuracy: 0.7071 - val_loss: 0.5750 - val_accuracy: 0.7081\n",
            "Epoch 5/15\n",
            "763/763 [==============================] - 884s 1s/step - loss: 0.5781 - accuracy: 0.7076 - val_loss: 0.5715 - val_accuracy: 0.7077\n",
            "Epoch 6/15\n",
            "763/763 [==============================] - 829s 1s/step - loss: 0.5739 - accuracy: 0.7085 - val_loss: 0.5686 - val_accuracy: 0.7151\n",
            "Epoch 7/15\n",
            "763/763 [==============================] - 873s 1s/step - loss: 0.5702 - accuracy: 0.7123 - val_loss: 0.5598 - val_accuracy: 0.7118\n",
            "Epoch 8/15\n",
            "763/763 [==============================] - 898s 1s/step - loss: 0.5669 - accuracy: 0.7126 - val_loss: 0.5656 - val_accuracy: 0.7269\n",
            "Epoch 9/15\n",
            "763/763 [==============================] - 873s 1s/step - loss: 0.5628 - accuracy: 0.7151 - val_loss: 0.5514 - val_accuracy: 0.7180\n",
            "Epoch 10/15\n",
            "763/763 [==============================] - 868s 1s/step - loss: 0.5588 - accuracy: 0.7196 - val_loss: 0.5465 - val_accuracy: 0.7213\n",
            "Epoch 11/15\n",
            "763/763 [==============================] - 897s 1s/step - loss: 0.5539 - accuracy: 0.7210 - val_loss: 0.5419 - val_accuracy: 0.7173\n",
            "Epoch 12/15\n",
            "763/763 [==============================] - 877s 1s/step - loss: 0.5483 - accuracy: 0.7248 - val_loss: 0.5342 - val_accuracy: 0.7353\n",
            "Epoch 13/15\n",
            "763/763 [==============================] - 847s 1s/step - loss: 0.5438 - accuracy: 0.7274 - val_loss: 0.5304 - val_accuracy: 0.7438\n",
            "Epoch 14/15\n",
            "763/763 [==============================] - 858s 1s/step - loss: 0.5389 - accuracy: 0.7309 - val_loss: 0.5244 - val_accuracy: 0.7468\n",
            "Epoch 15/15\n",
            "763/763 [==============================] - 829s 1s/step - loss: 0.5332 - accuracy: 0.7376 - val_loss: 0.5298 - val_accuracy: 0.7376\n"
          ]
        }
      ],
      "source": [
        "import time\n",
        "s_time=time.time()\n",
        "model1,h1=modeling(X_train_lasso_selected,y_train,'BI_LSTM')\n",
        "e_time=time.time()"
      ]
    },
    {
      "cell_type": "code",
      "execution_count": null,
      "metadata": {
        "colab": {
          "base_uri": "https://localhost:8080/"
        },
        "id": "Qi1Aq-kcSIMf",
        "outputId": "ff3e4825-b674-4e0c-b0ea-9623b3979854"
      },
      "outputs": [
        {
          "data": {
            "text/plain": [
              "216.64293466806413"
            ]
          },
          "execution_count": 37,
          "metadata": {},
          "output_type": "execute_result"
        }
      ],
      "source": [
        "time=(e_time - s_time)/60\n",
        "time"
      ]
    },
    {
      "cell_type": "code",
      "execution_count": null,
      "metadata": {
        "id": "84oYN0AUSI9y"
      },
      "outputs": [],
      "source": [
        "import numpy as np\n",
        "import seaborn as sns\n",
        "import matplotlib.pyplot as plt\n",
        "from sklearn.metrics import confusion_matrix\n",
        "from sklearn.preprocessing import LabelEncoder\n",
        "#confusion matrix\n",
        "def conf(x_test,y_test,model):\n",
        "  label_encoder = LabelEncoder ()\n",
        "  y_pred = model.predict(x_test,verbose=0)\n",
        "  pred_class_y=[]\n",
        "  for i in range(y_pred.shape[0]):\n",
        "    pred_class_y.append(np.argmax(y_pred[:][i]))\n",
        "  pred_class_y=np.array(pred_class_y)\n",
        "  #pred_class_y=label_encoder.inverse_transform(pred_class_y)\n",
        "  #y_test=label_encoder.inverse_transform(y_test)\n",
        "  target=[\"Negative\",\"Positive\"]\n",
        "\n",
        "  plt.figure(figsize=(10,5\n",
        "                      ))\n",
        "  fx=sns.heatmap(confusion_matrix(y_test,pred_class_y), annot=True, fmt=\".2f\",cmap=\"GnBu\")\n",
        "  fx.set_title('Confusion Matrix \\n');\n",
        "  fx.set_xlabel('\\n Predicted Values\\n')\n",
        "  fx.set_ylabel('Actual Values\\n');\n",
        "  fx.xaxis.set_ticklabels(target)\n",
        "  fx.yaxis.set_ticklabels(target)\n",
        "  plt.show()"
      ]
    },
    {
      "cell_type": "code",
      "execution_count": null,
      "metadata": {
        "id": "jTIVxQPmSJyL"
      },
      "outputs": [],
      "source": [
        "acc=[]\n",
        "precision=[]\n",
        "recall=[]\n",
        "f1=[]\n",
        "auroc=[]\n",
        "y_pred1=model1.predict(X_test_lasso_selected,verbose=0)\n",
        "y_pred=[]\n",
        "for i in range(y_pred1.shape[0]):\n",
        "    y_pred.append(np.argmax(y_pred1[:][i]))\n",
        "y_pred=np.array(y_pred)\n",
        "acc.append(accuracy_score(y_test, y_pred) )\n",
        "precision.append (precision_score(y_test, y_pred))\n",
        "recall.append(recall_score(y_test, y_pred))\n",
        "f1.append(f1_score(y_test, y_pred))\n",
        "auroc.append(roc_auc_score(y_test, y_pred))\n"
      ]
    },
    {
      "cell_type": "code",
      "execution_count": null,
      "metadata": {
        "colab": {
          "base_uri": "https://localhost:8080/",
          "height": 447
        },
        "id": "ZFLy1XwaSOcD",
        "outputId": "a05aeec4-812a-4c61-f6b9-123ec825aaf2"
      },
      "outputs": [
        {
          "output_type": "execute_result",
          "data": {
            "text/plain": [
              "<matplotlib.legend.Legend at 0x7d9eae4efc70>"
            ]
          },
          "metadata": {},
          "execution_count": 40
        },
        {
          "output_type": "display_data",
          "data": {
            "text/plain": [
              "<Figure size 640x480 with 1 Axes>"
            ],
            "image/png": "[encoded data removed]"
          },
          "metadata": {}
        }
      ],
      "source": [
        "import matplotlib.pyplot as plt\n",
        "\n",
        "plt.plot(h1.history['loss'],label=\"train loss\")\n",
        "plt.plot(h1.history['val_loss'],label='validation loss')\n",
        "#plt.plot(h.history['accuracy'],label='accuracy ')\n",
        "plt.legend()"
      ]
    },
    {
      "cell_type": "code",
      "execution_count": null,
      "metadata": {
        "colab": {
          "base_uri": "https://localhost:8080/",
          "height": 447
        },
        "id": "i3hPkv2_SPbP",
        "outputId": "2f9455f8-72b5-4db1-9b04-788b0994a02e"
      },
      "outputs": [
        {
          "output_type": "execute_result",
          "data": {
            "text/plain": [
              "<matplotlib.legend.Legend at 0x7d9e4b1519f0>"
            ]
          },
          "metadata": {},
          "execution_count": 41
        },
        {
          "output_type": "display_data",
          "data": {
            "text/plain": [
              "<Figure size 640x480 with 1 Axes>"
            ],
            "image/png": "[encoded data removed]"
          },
          "metadata": {}
        }
      ],
      "source": [
        "plt.plot(h1.history['accuracy'],label='accuracy ')\n",
        "plt.plot(h1.history['val_accuracy'],label='validation accuracy ')\n",
        "plt.legend()"
      ]
    },
    {
      "cell_type": "code",
      "execution_count": null,
      "metadata": {
        "colab": {
          "base_uri": "https://localhost:8080/",
          "height": 540
        },
        "id": "hjYQ7SOSSQVA",
        "outputId": "2b308f66-f8de-4aff-c2d8-8fef421547e3"
      },
      "outputs": [
        {
          "output_type": "display_data",
          "data": {
            "text/plain": [
              "<Figure size 1000x500 with 2 Axes>"
            ],
            "image/png": "[encoded data removed]"
          },
          "metadata": {}
        }
      ],
      "source": [
        "from sklearn.metrics import confusion_matrix\n",
        "conf(X_test_lasso_selected,y_test,model1)"
      ]
    },
    {
      "cell_type": "code",
      "execution_count": null,
      "metadata": {
        "id": "0BzxtwzOSRL7",
        "colab": {
          "base_uri": "https://localhost:8080/",
          "height": 81
        },
        "outputId": "19af91ac-6d9c-4028-b635-5c3f531146d7"
      },
      "outputs": [
        {
          "output_type": "execute_result",
          "data": {
            "text/plain": [
              "    Models  Accuracy  Precision    Recall        F1     AURoc\n",
              "0  BI_LSTM  0.739861   0.754098  0.935234  0.834955  0.605677"
            ],
            "text/html": [
              "\n",
              "  <div id=\"df-297bc565-4f19-4acd-b156-4e6b6dbb2c02\" class=\"colab-df-container\">\n",
              "    <div>\n",
              "<style scoped>\n",
              "    .dataframe tbody tr th:only-of-type {\n",
              "        vertical-align: middle;\n",
              "    }\n",
              "\n",
              "    .dataframe tbody tr th {\n",
              "        vertical-align: top;\n",
              "    }\n",
              "\n",
              "    .dataframe thead th {\n",
              "        text-align: right;\n",
              "    }\n",
              "</style>\n",
              "<table border=\"1\" class=\"dataframe\">\n",
              "  <thead>\n",
              "    <tr style=\"text-align: right;\">\n",
              "      <th></th>\n",
              "      <th>Models</th>\n",
              "      <th>Accuracy</th>\n",
              "      <th>Precision</th>\n",
              "      <th>Recall</th>\n",
              "      <th>F1</th>\n",
              "      <th>AURoc</th>\n",
              "    </tr>\n",
              "  </thead>\n",
              "  <tbody>\n",
              "    <tr>\n",
              "      <th>0</th>\n",
              "      <td>BI_LSTM</td>\n",
              "      <td>0.739861</td>\n",
              "      <td>0.754098</td>\n",
              "      <td>0.935234</td>\n",
              "      <td>0.834955</td>\n",
              "      <td>0.605677</td>\n",
              "    </tr>\n",
              "  </tbody>\n",
              "</table>\n",
              "</div>\n",
              "    <div class=\"colab-df-buttons\">\n",
              "\n",
              "  <div class=\"colab-df-container\">\n",
              "    <button class=\"colab-df-convert\" onclick=\"convertToInteractive('df-297bc565-4f19-4acd-b156-4e6b6dbb2c02')\"\n",
              "            title=\"Convert this dataframe to an interactive table.\"\n",
              "            style=\"display:none;\">\n",
              "\n",
              "  <svg xmlns=\"http://www.w3.org/2000/svg\" height=\"24px\" viewBox=\"0 -960 960 960\">\n",
              "    <path d=\"M120-120v-720h720v720H120Zm60-500h600v-160H180v160Zm220 220h160v-160H400v160Zm0 220h160v-160H400v160ZM180-400h160v-160H180v160Zm440 0h160v-160H620v160ZM180-180h160v-160H180v160Zm440 0h160v-160H620v160Z\"/>\n",
              "  </svg>\n",
              "    </button>\n",
              "\n",
              "  <style>\n",
              "    .colab-df-container {\n",
              "      display:flex;\n",
              "      gap: 12px;\n",
              "    }\n",
              "\n",
              "    .colab-df-convert {\n",
              "      background-color: #E8F0FE;\n",
              "      border: none;\n",
              "      border-radius: 50%;\n",
              "      cursor: pointer;\n",
              "      display: none;\n",
              "      fill: #1967D2;\n",
              "      height: 32px;\n",
              "      padding: 0 0 0 0;\n",
              "      width: 32px;\n",
              "    }\n",
              "\n",
              "    .colab-df-convert:hover {\n",
              "      background-color: #E2EBFA;\n",
              "      box-shadow: 0px 1px 2px rgba(60, 64, 67, 0.3), 0px 1px 3px 1px rgba(60, 64, 67, 0.15);\n",
              "      fill: #174EA6;\n",
              "    }\n",
              "\n",
              "    .colab-df-buttons div {\n",
              "      margin-bottom: 4px;\n",
              "    }\n",
              "\n",
              "    [theme=dark] .colab-df-convert {\n",
              "      background-color: #3B4455;\n",
              "      fill: #D2E3FC;\n",
              "    }\n",
              "\n",
              "    [theme=dark] .colab-df-convert:hover {\n",
              "      background-color: #434B5C;\n",
              "      box-shadow: 0px 1px 3px 1px rgba(0, 0, 0, 0.15);\n",
              "      filter: drop-shadow(0px 1px 2px rgba(0, 0, 0, 0.3));\n",
              "      fill: #FFFFFF;\n",
              "    }\n",
              "  </style>\n",
              "\n",
              "    <script>\n",
              "      const buttonEl =\n",
              "        document.querySelector('#df-297bc565-4f19-4acd-b156-4e6b6dbb2c02 button.colab-df-convert');\n",
              "      buttonEl.style.display =\n",
              "        google.colab.kernel.accessAllowed ? 'block' : 'none';\n",
              "\n",
              "      async function convertToInteractive(key) {\n",
              "        const element = document.querySelector('#df-297bc565-4f19-4acd-b156-4e6b6dbb2c02');\n",
              "        const dataTable =\n",
              "          await google.colab.kernel.invokeFunction('convertToInteractive',\n",
              "                                                    [key], {});\n",
              "        if (!dataTable) return;\n",
              "\n",
              "        const docLinkHtml = 'Like what you see? Visit the ' +\n",
              "          '<a target=\"_blank\" href=https://colab.research.google.com/notebooks/data_table.ipynb>data table notebook</a>'\n",
              "          + ' to learn more about interactive tables.';\n",
              "        element.innerHTML = '';\n",
              "        dataTable['output_type'] = 'display_data';\n",
              "        await google.colab.output.renderOutput(dataTable, element);\n",
              "        const docLink = document.createElement('div');\n",
              "        docLink.innerHTML = docLinkHtml;\n",
              "        element.appendChild(docLink);\n",
              "      }\n",
              "    </script>\n",
              "  </div>\n",
              "\n",
              "    </div>\n",
              "  </div>\n"
            ]
          },
          "metadata": {},
          "execution_count": 44
        }
      ],
      "source": [
        "models=['BI_LSTM']\n",
        "results=pd.DataFrame({'Models':models,'Accuracy':acc, 'Precision':precision,'Recall':recall,'F1':f1,'AURoc':auroc})\n",
        "results"
      ]
    },
    {
      "cell_type": "markdown",
      "source": [
        "##CNN\n"
      ],
      "metadata": {
        "id": "QZjD50y-aBrx"
      }
    },
    {
      "cell_type": "code",
      "source": [],
      "metadata": {
        "id": "-G0ILiSOaEqZ"
      },
      "execution_count": null,
      "outputs": []
    },
    {
      "cell_type": "code",
      "source": [
        "import time\n",
        "s_time=time.time()\n",
        "model1,h1=modeling(X_train_lasso_selected,y_train,'CNN')\n",
        "e_time=time.time()"
      ],
      "metadata": {
        "colab": {
          "base_uri": "https://localhost:8080/"
        },
        "outputId": "a1e8e2bb-ad4c-4379-eb03-4c4681863366",
        "id": "eu639ba4aE_s"
      },
      "execution_count": null,
      "outputs": [
        {
          "output_type": "stream",
          "name": "stdout",
          "text": [
            "Epoch 1/15\n",
            "763/763 [==============================] - 8s 7ms/step - loss: 0.6938 - accuracy: 0.5008 - val_loss: 0.6736 - val_accuracy: 0.7044\n",
            "Epoch 2/15\n",
            "763/763 [==============================] - 6s 8ms/step - loss: 0.6572 - accuracy: 0.7002 - val_loss: 0.6430 - val_accuracy: 0.7044\n",
            "Epoch 3/15\n",
            "763/763 [==============================] - 6s 7ms/step - loss: 0.6324 - accuracy: 0.7002 - val_loss: 0.6259 - val_accuracy: 0.7044\n",
            "Epoch 4/15\n",
            "763/763 [==============================] - 5s 6ms/step - loss: 0.6165 - accuracy: 0.7002 - val_loss: 0.6109 - val_accuracy: 0.7044\n",
            "Epoch 5/15\n",
            "763/763 [==============================] - 7s 9ms/step - loss: 0.6077 - accuracy: 0.7002 - val_loss: 0.6056 - val_accuracy: 0.7044\n",
            "Epoch 6/15\n",
            "763/763 [==============================] - 5s 6ms/step - loss: 0.6037 - accuracy: 0.7002 - val_loss: 0.6019 - val_accuracy: 0.7044\n",
            "Epoch 7/15\n",
            "763/763 [==============================] - 5s 6ms/step - loss: 0.6022 - accuracy: 0.7002 - val_loss: 0.6010 - val_accuracy: 0.7044\n",
            "Epoch 8/15\n",
            "763/763 [==============================] - 6s 8ms/step - loss: 0.6019 - accuracy: 0.7002 - val_loss: 0.6004 - val_accuracy: 0.7044\n",
            "Epoch 9/15\n",
            "763/763 [==============================] - 5s 6ms/step - loss: 0.6010 - accuracy: 0.7002 - val_loss: 0.6002 - val_accuracy: 0.7044\n",
            "Epoch 10/15\n",
            "763/763 [==============================] - 5s 6ms/step - loss: 0.6016 - accuracy: 0.7002 - val_loss: 0.6000 - val_accuracy: 0.7044\n",
            "Epoch 11/15\n",
            "763/763 [==============================] - 6s 8ms/step - loss: 0.6012 - accuracy: 0.7002 - val_loss: 0.5997 - val_accuracy: 0.7044\n",
            "Epoch 12/15\n",
            "763/763 [==============================] - 5s 6ms/step - loss: 0.6008 - accuracy: 0.7002 - val_loss: 0.5995 - val_accuracy: 0.7044\n",
            "Epoch 13/15\n",
            "763/763 [==============================] - 5s 7ms/step - loss: 0.6004 - accuracy: 0.7002 - val_loss: 0.5999 - val_accuracy: 0.7044\n",
            "Epoch 14/15\n",
            "763/763 [==============================] - 6s 7ms/step - loss: 0.6002 - accuracy: 0.7002 - val_loss: 0.5995 - val_accuracy: 0.7044\n",
            "Epoch 15/15\n",
            "763/763 [==============================] - 5s 6ms/step - loss: 0.6001 - accuracy: 0.7002 - val_loss: 0.5996 - val_accuracy: 0.7044\n"
          ]
        }
      ]
    },
    {
      "cell_type": "code",
      "source": [
        "time=(e_time - s_time)/60\n",
        "time"
      ],
      "metadata": {
        "colab": {
          "base_uri": "https://localhost:8080/"
        },
        "outputId": "262f5ed9-3957-41ed-979b-2135517dd2c7",
        "id": "LM50DMXjaE_s"
      },
      "execution_count": null,
      "outputs": [
        {
          "output_type": "execute_result",
          "data": {
            "text/plain": [
              "1.4259597738583882"
            ]
          },
          "metadata": {},
          "execution_count": 37
        }
      ]
    },
    {
      "cell_type": "code",
      "source": [
        "import numpy as np\n",
        "import seaborn as sns\n",
        "import matplotlib.pyplot as plt\n",
        "from sklearn.metrics import confusion_matrix\n",
        "from sklearn.preprocessing import LabelEncoder\n",
        "#confusion matrix\n",
        "def conf(x_test,y_test,model):\n",
        "  label_encoder = LabelEncoder ()\n",
        "  y_pred = model.predict(x_test,verbose=0)\n",
        "  pred_class_y=[]\n",
        "  for i in range(y_pred.shape[0]):\n",
        "    pred_class_y.append(np.argmax(y_pred[:][i]))\n",
        "  pred_class_y=np.array(pred_class_y)\n",
        "  #pred_class_y=label_encoder.inverse_transform(pred_class_y)\n",
        "  #y_test=label_encoder.inverse_transform(y_test)\n",
        "  target=[\"Negative\",\"Positive\"]\n",
        "\n",
        "  plt.figure(figsize=(10,5\n",
        "                      ))\n",
        "  fx=sns.heatmap(confusion_matrix(y_test,pred_class_y), annot=True, fmt=\".2f\",cmap=\"GnBu\")\n",
        "  fx.set_title('Confusion Matrix \\n');\n",
        "  fx.set_xlabel('\\n Predicted Values\\n')\n",
        "  fx.set_ylabel('Actual Values\\n');\n",
        "  fx.xaxis.set_ticklabels(target)\n",
        "  fx.yaxis.set_ticklabels(target)\n",
        "  plt.show()"
      ],
      "metadata": {
        "id": "ncnoO9sEaE_t"
      },
      "execution_count": null,
      "outputs": []
    },
    {
      "cell_type": "code",
      "source": [
        "acc=[]\n",
        "precision=[]\n",
        "recall=[]\n",
        "f1=[]\n",
        "auroc=[]\n",
        "y_pred1=model1.predict(X_test_lasso_selected,verbose=0)\n",
        "y_pred=[]\n",
        "for i in range(y_pred1.shape[0]):\n",
        "    y_pred.append(np.argmax(y_pred1[:][i]))\n",
        "y_pred=np.array(y_pred)\n",
        "acc.append(accuracy_score(y_test, y_pred) )\n",
        "precision.append (precision_score(y_test, y_pred))\n",
        "recall.append(recall_score(y_test, y_pred))\n",
        "f1.append(f1_score(y_test, y_pred))\n",
        "auroc.append(roc_auc_score(y_test, y_pred))\n"
      ],
      "metadata": {
        "id": "pvseNMcNaE_t"
      },
      "execution_count": null,
      "outputs": []
    },
    {
      "cell_type": "code",
      "source": [
        "import matplotlib.pyplot as plt\n",
        "\n",
        "plt.plot(h1.history['loss'],label=\"train loss\")\n",
        "plt.plot(h1.history['val_loss'],label='validation loss')\n",
        "#plt.plot(h.history['accuracy'],label='accuracy ')\n",
        "plt.legend()"
      ],
      "metadata": {
        "colab": {
          "base_uri": "https://localhost:8080/",
          "height": 447
        },
        "outputId": "67a4eece-0e39-4236-e4ac-67af55349d74",
        "id": "_mSY_d4vaE_t"
      },
      "execution_count": null,
      "outputs": [
        {
          "output_type": "execute_result",
          "data": {
            "text/plain": [
              "<matplotlib.legend.Legend at 0x7d6a3af63850>"
            ]
          },
          "metadata": {},
          "execution_count": 40
        },
        {
          "output_type": "display_data",
          "data": {
            "text/plain": [
              "<Figure size 640x480 with 1 Axes>"
            ],
            "image/png": "[encoded data removed]"
          },
          "metadata": {}
        }
      ]
    },
    {
      "cell_type": "code",
      "source": [
        "plt.plot(h1.history['accuracy'],label='accuracy ')\n",
        "plt.plot(h1.history['val_accuracy'],label='validation accuracy ')\n",
        "plt.legend()"
      ],
      "metadata": {
        "colab": {
          "base_uri": "https://localhost:8080/",
          "height": 447
        },
        "outputId": "b9d612fe-87b8-445c-bc15-0828b4f88137",
        "id": "M-PypgJIaE_t"
      },
      "execution_count": null,
      "outputs": [
        {
          "output_type": "execute_result",
          "data": {
            "text/plain": [
              "<matplotlib.legend.Legend at 0x7d6a3d7b1fc0>"
            ]
          },
          "metadata": {},
          "execution_count": 41
        },
        {
          "output_type": "display_data",
          "data": {
            "text/plain": [
              "<Figure size 640x480 with 1 Axes>"
            ],
            "image/png": "[encoded data removed]"
          },
          "metadata": {}
        }
      ]
    },
    {
      "cell_type": "code",
      "source": [
        "from sklearn.metrics import confusion_matrix\n",
        "conf(X_test_lasso_selected,y_test,model1)"
      ],
      "metadata": {
        "colab": {
          "base_uri": "https://localhost:8080/",
          "height": 540
        },
        "outputId": "5f0034d2-5f1a-4118-a16f-8d6969fa9d7d",
        "id": "7pEAR85caE_t"
      },
      "execution_count": null,
      "outputs": [
        {
          "output_type": "display_data",
          "data": {
            "text/plain": [
              "<Figure size 1000x500 with 2 Axes>"
            ],
            "image/png": "[encoded data removed]"
          },
          "metadata": {}
        }
      ]
    },
    {
      "cell_type": "code",
      "source": [
        "models=['CNN']\n",
        "results=pd.DataFrame({'Models':models,'Accuracy':acc, 'Precision':precision,'Recall':recall,'F1':f1,'AURoc':auroc})\n",
        "results"
      ],
      "metadata": {
        "colab": {
          "base_uri": "https://localhost:8080/",
          "height": 81
        },
        "outputId": "11a4fc31-8830-42a9-e790-03b1727a7d51",
        "id": "ItslvhBZaE_t"
      },
      "execution_count": null,
      "outputs": [
        {
          "output_type": "execute_result",
          "data": {
            "text/plain": [
              "  Models  Accuracy  Precision  Recall        F1  AURoc\n",
              "0    CNN  0.703584   0.703584     1.0  0.826004    0.5"
            ],
            "text/html": [
              "\n",
              "  <div id=\"df-4b75da5d-edd6-4275-9db6-0ae830434b1d\" class=\"colab-df-container\">\n",
              "    <div>\n",
              "<style scoped>\n",
              "    .dataframe tbody tr th:only-of-type {\n",
              "        vertical-align: middle;\n",
              "    }\n",
              "\n",
              "    .dataframe tbody tr th {\n",
              "        vertical-align: top;\n",
              "    }\n",
              "\n",
              "    .dataframe thead th {\n",
              "        text-align: right;\n",
              "    }\n",
              "</style>\n",
              "<table border=\"1\" class=\"dataframe\">\n",
              "  <thead>\n",
              "    <tr style=\"text-align: right;\">\n",
              "      <th></th>\n",
              "      <th>Models</th>\n",
              "      <th>Accuracy</th>\n",
              "      <th>Precision</th>\n",
              "      <th>Recall</th>\n",
              "      <th>F1</th>\n",
              "      <th>AURoc</th>\n",
              "    </tr>\n",
              "  </thead>\n",
              "  <tbody>\n",
              "    <tr>\n",
              "      <th>0</th>\n",
              "      <td>CNN</td>\n",
              "      <td>0.703584</td>\n",
              "      <td>0.703584</td>\n",
              "      <td>1.0</td>\n",
              "      <td>0.826004</td>\n",
              "      <td>0.5</td>\n",
              "    </tr>\n",
              "  </tbody>\n",
              "</table>\n",
              "</div>\n",
              "    <div class=\"colab-df-buttons\">\n",
              "\n",
              "  <div class=\"colab-df-container\">\n",
              "    <button class=\"colab-df-convert\" onclick=\"convertToInteractive('df-4b75da5d-edd6-4275-9db6-0ae830434b1d')\"\n",
              "            title=\"Convert this dataframe to an interactive table.\"\n",
              "            style=\"display:none;\">\n",
              "\n",
              "  <svg xmlns=\"http://www.w3.org/2000/svg\" height=\"24px\" viewBox=\"0 -960 960 960\">\n",
              "    <path d=\"M120-120v-720h720v720H120Zm60-500h600v-160H180v160Zm220 220h160v-160H400v160Zm0 220h160v-160H400v160ZM180-400h160v-160H180v160Zm440 0h160v-160H620v160ZM180-180h160v-160H180v160Zm440 0h160v-160H620v160Z\"/>\n",
              "  </svg>\n",
              "    </button>\n",
              "\n",
              "  <style>\n",
              "    .colab-df-container {\n",
              "      display:flex;\n",
              "      gap: 12px;\n",
              "    }\n",
              "\n",
              "    .colab-df-convert {\n",
              "      background-color: #E8F0FE;\n",
              "      border: none;\n",
              "      border-radius: 50%;\n",
              "      cursor: pointer;\n",
              "      display: none;\n",
              "      fill: #1967D2;\n",
              "      height: 32px;\n",
              "      padding: 0 0 0 0;\n",
              "      width: 32px;\n",
              "    }\n",
              "\n",
              "    .colab-df-convert:hover {\n",
              "      background-color: #E2EBFA;\n",
              "      box-shadow: 0px 1px 2px rgba(60, 64, 67, 0.3), 0px 1px 3px 1px rgba(60, 64, 67, 0.15);\n",
              "      fill: #174EA6;\n",
              "    }\n",
              "\n",
              "    .colab-df-buttons div {\n",
              "      margin-bottom: 4px;\n",
              "    }\n",
              "\n",
              "    [theme=dark] .colab-df-convert {\n",
              "      background-color: #3B4455;\n",
              "      fill: #D2E3FC;\n",
              "    }\n",
              "\n",
              "    [theme=dark] .colab-df-convert:hover {\n",
              "      background-color: #434B5C;\n",
              "      box-shadow: 0px 1px 3px 1px rgba(0, 0, 0, 0.15);\n",
              "      filter: drop-shadow(0px 1px 2px rgba(0, 0, 0, 0.3));\n",
              "      fill: #FFFFFF;\n",
              "    }\n",
              "  </style>\n",
              "\n",
              "    <script>\n",
              "      const buttonEl =\n",
              "        document.querySelector('#df-4b75da5d-edd6-4275-9db6-0ae830434b1d button.colab-df-convert');\n",
              "      buttonEl.style.display =\n",
              "        google.colab.kernel.accessAllowed ? 'block' : 'none';\n",
              "\n",
              "      async function convertToInteractive(key) {\n",
              "        const element = document.querySelector('#df-4b75da5d-edd6-4275-9db6-0ae830434b1d');\n",
              "        const dataTable =\n",
              "          await google.colab.kernel.invokeFunction('convertToInteractive',\n",
              "                                                    [key], {});\n",
              "        if (!dataTable) return;\n",
              "\n",
              "        const docLinkHtml = 'Like what you see? Visit the ' +\n",
              "          '<a target=\"_blank\" href=https://colab.research.google.com/notebooks/data_table.ipynb>data table notebook</a>'\n",
              "          + ' to learn more about interactive tables.';\n",
              "        element.innerHTML = '';\n",
              "        dataTable['output_type'] = 'display_data';\n",
              "        await google.colab.output.renderOutput(dataTable, element);\n",
              "        const docLink = document.createElement('div');\n",
              "        docLink.innerHTML = docLinkHtml;\n",
              "        element.appendChild(docLink);\n",
              "      }\n",
              "    </script>\n",
              "  </div>\n",
              "\n",
              "    </div>\n",
              "  </div>\n"
            ]
          },
          "metadata": {},
          "execution_count": 43
        }
      ]
    },
    {
      "cell_type": "markdown",
      "source": [
        "##GRU\n"
      ],
      "metadata": {
        "id": "aIjeTyzHaLRd"
      }
    },
    {
      "cell_type": "code",
      "source": [],
      "metadata": {
        "id": "3-6M4PDdaTU4"
      },
      "execution_count": null,
      "outputs": []
    },
    {
      "cell_type": "code",
      "source": [
        "import time\n",
        "s_time=time.time()\n",
        "model1,h1=modeling(X_train_lasso_selected,y_train,'GRU')\n",
        "e_time=time.time()"
      ],
      "metadata": {
        "colab": {
          "base_uri": "https://localhost:8080/"
        },
        "outputId": "0327cc5f-da0c-40d7-f74e-e641c94c418c",
        "id": "wISB0thAaTjO"
      },
      "execution_count": null,
      "outputs": [
        {
          "output_type": "stream",
          "name": "stdout",
          "text": [
            "Epoch 1/15\n",
            "763/763 [==============================] - 183s 233ms/step - loss: 0.5926 - accuracy: 0.7029 - val_loss: 0.5845 - val_accuracy: 0.7070\n",
            "Epoch 2/15\n",
            "763/763 [==============================] - 185s 242ms/step - loss: 0.5868 - accuracy: 0.7052 - val_loss: 0.5901 - val_accuracy: 0.7077\n",
            "Epoch 3/15\n",
            "763/763 [==============================] - 178s 233ms/step - loss: 0.5836 - accuracy: 0.7053 - val_loss: 0.5774 - val_accuracy: 0.7055\n",
            "Epoch 4/15\n",
            "763/763 [==============================] - 177s 232ms/step - loss: 0.5799 - accuracy: 0.7074 - val_loss: 0.5751 - val_accuracy: 0.7129\n",
            "Epoch 5/15\n",
            "763/763 [==============================] - 180s 235ms/step - loss: 0.5759 - accuracy: 0.7086 - val_loss: 0.5700 - val_accuracy: 0.7125\n",
            "Epoch 6/15\n",
            "763/763 [==============================] - 190s 249ms/step - loss: 0.5711 - accuracy: 0.7109 - val_loss: 0.5688 - val_accuracy: 0.7224\n",
            "Epoch 7/15\n",
            "763/763 [==============================] - 183s 239ms/step - loss: 0.5662 - accuracy: 0.7129 - val_loss: 0.5579 - val_accuracy: 0.7199\n",
            "Epoch 8/15\n",
            "763/763 [==============================] - 179s 235ms/step - loss: 0.5605 - accuracy: 0.7173 - val_loss: 0.5512 - val_accuracy: 0.7258\n",
            "Epoch 9/15\n",
            "763/763 [==============================] - 177s 232ms/step - loss: 0.5541 - accuracy: 0.7228 - val_loss: 0.5466 - val_accuracy: 0.7398\n",
            "Epoch 10/15\n",
            "763/763 [==============================] - 179s 235ms/step - loss: 0.5478 - accuracy: 0.7267 - val_loss: 0.5379 - val_accuracy: 0.7368\n",
            "Epoch 11/15\n",
            "763/763 [==============================] - 180s 235ms/step - loss: 0.5405 - accuracy: 0.7350 - val_loss: 0.5364 - val_accuracy: 0.7560\n",
            "Epoch 12/15\n",
            "763/763 [==============================] - 180s 236ms/step - loss: 0.5354 - accuracy: 0.7389 - val_loss: 0.5265 - val_accuracy: 0.7516\n",
            "Epoch 13/15\n",
            "763/763 [==============================] - 184s 242ms/step - loss: 0.5297 - accuracy: 0.7450 - val_loss: 0.5250 - val_accuracy: 0.7468\n",
            "Epoch 14/15\n",
            "763/763 [==============================] - 193s 253ms/step - loss: 0.5252 - accuracy: 0.7495 - val_loss: 0.5177 - val_accuracy: 0.7630\n",
            "Epoch 15/15\n",
            "763/763 [==============================] - 190s 249ms/step - loss: 0.5215 - accuracy: 0.7520 - val_loss: 0.5148 - val_accuracy: 0.7637\n"
          ]
        }
      ]
    },
    {
      "cell_type": "code",
      "source": [
        "time=(e_time - s_time)/60\n",
        "time"
      ],
      "metadata": {
        "colab": {
          "base_uri": "https://localhost:8080/"
        },
        "outputId": "e8074fba-48bf-40de-dd9b-e53c85ba5955",
        "id": "xOK0mPbgaTjO"
      },
      "execution_count": null,
      "outputs": [
        {
          "output_type": "execute_result",
          "data": {
            "text/plain": [
              "45.666065736611685"
            ]
          },
          "metadata": {},
          "execution_count": 37
        }
      ]
    },
    {
      "cell_type": "code",
      "source": [
        "import numpy as np\n",
        "import seaborn as sns\n",
        "import matplotlib.pyplot as plt\n",
        "from sklearn.metrics import confusion_matrix\n",
        "from sklearn.preprocessing import LabelEncoder\n",
        "#confusion matrix\n",
        "def conf(x_test,y_test,model):\n",
        "  label_encoder = LabelEncoder ()\n",
        "  y_pred = model.predict(x_test,verbose=0)\n",
        "  pred_class_y=[]\n",
        "  for i in range(y_pred.shape[0]):\n",
        "    pred_class_y.append(np.argmax(y_pred[:][i]))\n",
        "  pred_class_y=np.array(pred_class_y)\n",
        "  #pred_class_y=label_encoder.inverse_transform(pred_class_y)\n",
        "  #y_test=label_encoder.inverse_transform(y_test)\n",
        "  target=[\"Negative\",\"Positive\"]\n",
        "\n",
        "  plt.figure(figsize=(10,5\n",
        "                      ))\n",
        "  fx=sns.heatmap(confusion_matrix(y_test,pred_class_y), annot=True, fmt=\".2f\",cmap=\"GnBu\")\n",
        "  fx.set_title('Confusion Matrix \\n');\n",
        "  fx.set_xlabel('\\n Predicted Values\\n')\n",
        "  fx.set_ylabel('Actual Values\\n');\n",
        "  fx.xaxis.set_ticklabels(target)\n",
        "  fx.yaxis.set_ticklabels(target)\n",
        "  plt.show()"
      ],
      "metadata": {
        "id": "zG1dP9xtaTjO"
      },
      "execution_count": null,
      "outputs": []
    },
    {
      "cell_type": "code",
      "source": [
        "acc=[]\n",
        "precision=[]\n",
        "recall=[]\n",
        "f1=[]\n",
        "auroc=[]\n",
        "y_pred1=model1.predict(X_test_lasso_selected,verbose=0)\n",
        "y_pred=[]\n",
        "for i in range(y_pred1.shape[0]):\n",
        "    y_pred.append(np.argmax(y_pred1[:][i]))\n",
        "y_pred=np.array(y_pred)\n",
        "acc.append(accuracy_score(y_test, y_pred) )\n",
        "precision.append (precision_score(y_test, y_pred))\n",
        "recall.append(recall_score(y_test, y_pred))\n",
        "f1.append(f1_score(y_test, y_pred))\n",
        "auroc.append(roc_auc_score(y_test, y_pred))\n"
      ],
      "metadata": {
        "id": "wpRGBTC2aTjP"
      },
      "execution_count": null,
      "outputs": []
    },
    {
      "cell_type": "code",
      "source": [
        "import matplotlib.pyplot as plt\n",
        "\n",
        "plt.plot(h1.history['loss'],label=\"train loss\")\n",
        "plt.plot(h1.history['val_loss'],label='validation loss')\n",
        "#plt.plot(h.history['accuracy'],label='accuracy ')\n",
        "plt.legend()"
      ],
      "metadata": {
        "colab": {
          "base_uri": "https://localhost:8080/",
          "height": 447
        },
        "outputId": "30d9c95d-0117-4dee-8133-20c929441cb0",
        "id": "AZY5qWZ9aTjP"
      },
      "execution_count": null,
      "outputs": [
        {
          "output_type": "execute_result",
          "data": {
            "text/plain": [
              "<matplotlib.legend.Legend at 0x7c88f87a8580>"
            ]
          },
          "metadata": {},
          "execution_count": 40
        },
        {
          "output_type": "display_data",
          "data": {
            "text/plain": [
              "<Figure size 640x480 with 1 Axes>"
            ],
            "image/png": "[encoded data removed]"
          },
          "metadata": {}
        }
      ]
    },
    {
      "cell_type": "code",
      "source": [
        "plt.plot(h1.history['accuracy'],label='accuracy ')\n",
        "plt.plot(h1.history['val_accuracy'],label='validation accuracy ')\n",
        "plt.legend()"
      ],
      "metadata": {
        "colab": {
          "base_uri": "https://localhost:8080/",
          "height": 447
        },
        "outputId": "cf0480f1-a16a-4101-b89d-d5f547cd24c3",
        "id": "YTXkDLnpaTjP"
      },
      "execution_count": null,
      "outputs": [
        {
          "output_type": "execute_result",
          "data": {
            "text/plain": [
              "<matplotlib.legend.Legend at 0x7c88f9bcefb0>"
            ]
          },
          "metadata": {},
          "execution_count": 41
        },
        {
          "output_type": "display_data",
          "data": {
            "text/plain": [
              "<Figure size 640x480 with 1 Axes>"
            ],
            "image/png": "[encoded data removed]"
          },
          "metadata": {}
        }
      ]
    },
    {
      "cell_type": "code",
      "source": [
        "from sklearn.metrics import confusion_matrix\n",
        "conf(X_test_lasso_selected,y_test,model1)"
      ],
      "metadata": {
        "colab": {
          "base_uri": "https://localhost:8080/",
          "height": 540
        },
        "outputId": "cff50966-0580-4219-aa0e-ca49c871377f",
        "id": "Q1DsBRsraTjP"
      },
      "execution_count": null,
      "outputs": [
        {
          "output_type": "display_data",
          "data": {
            "text/plain": [
              "<Figure size 1000x500 with 2 Axes>"
            ],
            "image/png": "[encoded data removed]"
          },
          "metadata": {}
        }
      ]
    },
    {
      "cell_type": "code",
      "source": [
        "models=['GRU']\n",
        "results=pd.DataFrame({'Models':models,'Accuracy':acc, 'Precision':precision,'Recall':recall,'F1':f1,'AURoc':auroc})\n",
        "results"
      ],
      "metadata": {
        "colab": {
          "base_uri": "https://localhost:8080/",
          "height": 81
        },
        "outputId": "01577a0c-6cee-4230-a5b9-35d7bd910413",
        "id": "9C3ls8nBaTjP"
      },
      "execution_count": null,
      "outputs": [
        {
          "output_type": "execute_result",
          "data": {
            "text/plain": [
              "  Models  Accuracy  Precision    Recall        F1     AURoc\n",
              "0    GRU  0.764342   0.777506  0.931671  0.847635  0.649417"
            ],
            "text/html": [
              "\n",
              "  <div id=\"df-c7683757-ac9d-469b-b1c2-2d3075771cd8\" class=\"colab-df-container\">\n",
              "    <div>\n",
              "<style scoped>\n",
              "    .dataframe tbody tr th:only-of-type {\n",
              "        vertical-align: middle;\n",
              "    }\n",
              "\n",
              "    .dataframe tbody tr th {\n",
              "        vertical-align: top;\n",
              "    }\n",
              "\n",
              "    .dataframe thead th {\n",
              "        text-align: right;\n",
              "    }\n",
              "</style>\n",
              "<table border=\"1\" class=\"dataframe\">\n",
              "  <thead>\n",
              "    <tr style=\"text-align: right;\">\n",
              "      <th></th>\n",
              "      <th>Models</th>\n",
              "      <th>Accuracy</th>\n",
              "      <th>Precision</th>\n",
              "      <th>Recall</th>\n",
              "      <th>F1</th>\n",
              "      <th>AURoc</th>\n",
              "    </tr>\n",
              "  </thead>\n",
              "  <tbody>\n",
              "    <tr>\n",
              "      <th>0</th>\n",
              "      <td>GRU</td>\n",
              "      <td>0.764342</td>\n",
              "      <td>0.777506</td>\n",
              "      <td>0.931671</td>\n",
              "      <td>0.847635</td>\n",
              "      <td>0.649417</td>\n",
              "    </tr>\n",
              "  </tbody>\n",
              "</table>\n",
              "</div>\n",
              "    <div class=\"colab-df-buttons\">\n",
              "\n",
              "  <div class=\"colab-df-container\">\n",
              "    <button class=\"colab-df-convert\" onclick=\"convertToInteractive('df-c7683757-ac9d-469b-b1c2-2d3075771cd8')\"\n",
              "            title=\"Convert this dataframe to an interactive table.\"\n",
              "            style=\"display:none;\">\n",
              "\n",
              "  <svg xmlns=\"http://www.w3.org/2000/svg\" height=\"24px\" viewBox=\"0 -960 960 960\">\n",
              "    <path d=\"M120-120v-720h720v720H120Zm60-500h600v-160H180v160Zm220 220h160v-160H400v160Zm0 220h160v-160H400v160ZM180-400h160v-160H180v160Zm440 0h160v-160H620v160ZM180-180h160v-160H180v160Zm440 0h160v-160H620v160Z\"/>\n",
              "  </svg>\n",
              "    </button>\n",
              "\n",
              "  <style>\n",
              "    .colab-df-container {\n",
              "      display:flex;\n",
              "      gap: 12px;\n",
              "    }\n",
              "\n",
              "    .colab-df-convert {\n",
              "      background-color: #E8F0FE;\n",
              "      border: none;\n",
              "      border-radius: 50%;\n",
              "      cursor: pointer;\n",
              "      display: none;\n",
              "      fill: #1967D2;\n",
              "      height: 32px;\n",
              "      padding: 0 0 0 0;\n",
              "      width: 32px;\n",
              "    }\n",
              "\n",
              "    .colab-df-convert:hover {\n",
              "      background-color: #E2EBFA;\n",
              "      box-shadow: 0px 1px 2px rgba(60, 64, 67, 0.3), 0px 1px 3px 1px rgba(60, 64, 67, 0.15);\n",
              "      fill: #174EA6;\n",
              "    }\n",
              "\n",
              "    .colab-df-buttons div {\n",
              "      margin-bottom: 4px;\n",
              "    }\n",
              "\n",
              "    [theme=dark] .colab-df-convert {\n",
              "      background-color: #3B4455;\n",
              "      fill: #D2E3FC;\n",
              "    }\n",
              "\n",
              "    [theme=dark] .colab-df-convert:hover {\n",
              "      background-color: #434B5C;\n",
              "      box-shadow: 0px 1px 3px 1px rgba(0, 0, 0, 0.15);\n",
              "      filter: drop-shadow(0px 1px 2px rgba(0, 0, 0, 0.3));\n",
              "      fill: #FFFFFF;\n",
              "    }\n",
              "  </style>\n",
              "\n",
              "    <script>\n",
              "      const buttonEl =\n",
              "        document.querySelector('#df-c7683757-ac9d-469b-b1c2-2d3075771cd8 button.colab-df-convert');\n",
              "      buttonEl.style.display =\n",
              "        google.colab.kernel.accessAllowed ? 'block' : 'none';\n",
              "\n",
              "      async function convertToInteractive(key) {\n",
              "        const element = document.querySelector('#df-c7683757-ac9d-469b-b1c2-2d3075771cd8');\n",
              "        const dataTable =\n",
              "          await google.colab.kernel.invokeFunction('convertToInteractive',\n",
              "                                                    [key], {});\n",
              "        if (!dataTable) return;\n",
              "\n",
              "        const docLinkHtml = 'Like what you see? Visit the ' +\n",
              "          '<a target=\"_blank\" href=https://colab.research.google.com/notebooks/data_table.ipynb>data table notebook</a>'\n",
              "          + ' to learn more about interactive tables.';\n",
              "        element.innerHTML = '';\n",
              "        dataTable['output_type'] = 'display_data';\n",
              "        await google.colab.output.renderOutput(dataTable, element);\n",
              "        const docLink = document.createElement('div');\n",
              "        docLink.innerHTML = docLinkHtml;\n",
              "        element.appendChild(docLink);\n",
              "      }\n",
              "    </script>\n",
              "  </div>\n",
              "\n",
              "    </div>\n",
              "  </div>\n"
            ]
          },
          "metadata": {},
          "execution_count": 43
        }
      ]
    },
    {
      "cell_type": "markdown",
      "source": [
        "##LSTM"
      ],
      "metadata": {
        "id": "8Eb_pfWkaVC9"
      }
    },
    {
      "cell_type": "code",
      "source": [],
      "metadata": {
        "id": "_c-tt6mkabSg"
      },
      "execution_count": null,
      "outputs": []
    },
    {
      "cell_type": "code",
      "source": [
        "import time\n",
        "s_time=time.time()\n",
        "model1,h1=modeling(X_train_lasso_selected,y_train,'LSTM')\n",
        "e_time=time.time()"
      ],
      "metadata": {
        "colab": {
          "base_uri": "https://localhost:8080/"
        },
        "outputId": "78fb52a1-8c27-4d31-d2f1-f23dc688901a",
        "id": "1-m_caEWagKc"
      },
      "execution_count": null,
      "outputs": [
        {
          "output_type": "stream",
          "name": "stdout",
          "text": [
            "Epoch 1/15\n",
            "763/763 [==============================] - 400s 516ms/step - loss: 0.6002 - accuracy: 0.7006 - val_loss: 0.5866 - val_accuracy: 0.7051\n",
            "Epoch 2/15\n",
            "763/763 [==============================] - 394s 517ms/step - loss: 0.5894 - accuracy: 0.7009 - val_loss: 0.5859 - val_accuracy: 0.7073\n",
            "Epoch 3/15\n",
            "763/763 [==============================] - 391s 512ms/step - loss: 0.5887 - accuracy: 0.7015 - val_loss: 0.5850 - val_accuracy: 0.7036\n",
            "Epoch 4/15\n",
            "763/763 [==============================] - 385s 505ms/step - loss: 0.5879 - accuracy: 0.7023 - val_loss: 0.5838 - val_accuracy: 0.7073\n",
            "Epoch 5/15\n",
            "763/763 [==============================] - 379s 497ms/step - loss: 0.5870 - accuracy: 0.7017 - val_loss: 0.5843 - val_accuracy: 0.7095\n",
            "Epoch 6/15\n",
            "763/763 [==============================] - 383s 502ms/step - loss: 0.5858 - accuracy: 0.7030 - val_loss: 0.5810 - val_accuracy: 0.7033\n",
            "Epoch 7/15\n",
            "763/763 [==============================] - 382s 500ms/step - loss: 0.5849 - accuracy: 0.7039 - val_loss: 0.5797 - val_accuracy: 0.7048\n",
            "Epoch 8/15\n",
            "763/763 [==============================] - 383s 502ms/step - loss: 0.5834 - accuracy: 0.7046 - val_loss: 0.5794 - val_accuracy: 0.7110\n",
            "Epoch 9/15\n",
            "763/763 [==============================] - 374s 490ms/step - loss: 0.5818 - accuracy: 0.7053 - val_loss: 0.5763 - val_accuracy: 0.7077\n",
            "Epoch 10/15\n",
            "763/763 [==============================] - 382s 501ms/step - loss: 0.5797 - accuracy: 0.7064 - val_loss: 0.5733 - val_accuracy: 0.7088\n",
            "Epoch 11/15\n",
            "763/763 [==============================] - 380s 498ms/step - loss: 0.5785 - accuracy: 0.7079 - val_loss: 0.5719 - val_accuracy: 0.7103\n",
            "Epoch 12/15\n",
            "763/763 [==============================] - 382s 501ms/step - loss: 0.5765 - accuracy: 0.7082 - val_loss: 0.5689 - val_accuracy: 0.7095\n",
            "Epoch 13/15\n",
            "763/763 [==============================] - 384s 503ms/step - loss: 0.5748 - accuracy: 0.7086 - val_loss: 0.5665 - val_accuracy: 0.7132\n",
            "Epoch 14/15\n",
            "763/763 [==============================] - 373s 489ms/step - loss: 0.5723 - accuracy: 0.7108 - val_loss: 0.5648 - val_accuracy: 0.7140\n",
            "Epoch 15/15\n",
            "763/763 [==============================] - 376s 493ms/step - loss: 0.5700 - accuracy: 0.7119 - val_loss: 0.5613 - val_accuracy: 0.7213\n"
          ]
        }
      ]
    },
    {
      "cell_type": "code",
      "source": [
        "time=(e_time - s_time)/60\n",
        "time"
      ],
      "metadata": {
        "colab": {
          "base_uri": "https://localhost:8080/"
        },
        "outputId": "ce514061-f89d-4d34-95d6-707c8e45e05d",
        "id": "SPOMLcyNagKj"
      },
      "execution_count": null,
      "outputs": [
        {
          "output_type": "execute_result",
          "data": {
            "text/plain": [
              "96.4956508398056"
            ]
          },
          "metadata": {},
          "execution_count": 37
        }
      ]
    },
    {
      "cell_type": "code",
      "source": [
        "import numpy as np\n",
        "import seaborn as sns\n",
        "import matplotlib.pyplot as plt\n",
        "from sklearn.metrics import confusion_matrix\n",
        "from sklearn.preprocessing import LabelEncoder\n",
        "#confusion matrix\n",
        "def conf(x_test,y_test,model):\n",
        "  label_encoder = LabelEncoder ()\n",
        "  y_pred = model.predict(x_test,verbose=0)\n",
        "  pred_class_y=[]\n",
        "  for i in range(y_pred.shape[0]):\n",
        "    pred_class_y.append(np.argmax(y_pred[:][i]))\n",
        "  pred_class_y=np.array(pred_class_y)\n",
        "  #pred_class_y=label_encoder.inverse_transform(pred_class_y)\n",
        "  #y_test=label_encoder.inverse_transform(y_test)\n",
        "  target=[\"Negative\",\"Positive\"]\n",
        "\n",
        "  plt.figure(figsize=(10,5\n",
        "                      ))\n",
        "  fx=sns.heatmap(confusion_matrix(y_test,pred_class_y), annot=True, fmt=\".2f\",cmap=\"GnBu\")\n",
        "  fx.set_title('Confusion Matrix \\n');\n",
        "  fx.set_xlabel('\\n Predicted Values\\n')\n",
        "  fx.set_ylabel('Actual Values\\n');\n",
        "  fx.xaxis.set_ticklabels(target)\n",
        "  fx.yaxis.set_ticklabels(target)\n",
        "  plt.show()"
      ],
      "metadata": {
        "id": "-cBWJ_byagKj"
      },
      "execution_count": null,
      "outputs": []
    },
    {
      "cell_type": "code",
      "source": [
        "acc=[]\n",
        "precision=[]\n",
        "recall=[]\n",
        "f1=[]\n",
        "auroc=[]\n",
        "y_pred1=model1.predict(X_test_lasso_selected,verbose=0)\n",
        "y_pred=[]\n",
        "for i in range(y_pred1.shape[0]):\n",
        "    y_pred.append(np.argmax(y_pred1[:][i]))\n",
        "y_pred=np.array(y_pred)\n",
        "acc.append(accuracy_score(y_test, y_pred) )\n",
        "precision.append (precision_score(y_test, y_pred))\n",
        "recall.append(recall_score(y_test, y_pred))\n",
        "f1.append(f1_score(y_test, y_pred))\n",
        "auroc.append(roc_auc_score(y_test, y_pred))\n"
      ],
      "metadata": {
        "id": "ZhK2PYx3agKj"
      },
      "execution_count": null,
      "outputs": []
    },
    {
      "cell_type": "code",
      "source": [
        "import matplotlib.pyplot as plt\n",
        "\n",
        "plt.plot(h1.history['loss'],label=\"train loss\")\n",
        "plt.plot(h1.history['val_loss'],label='validation loss')\n",
        "#plt.plot(h.history['accuracy'],label='accuracy ')\n",
        "plt.legend()"
      ],
      "metadata": {
        "colab": {
          "base_uri": "https://localhost:8080/",
          "height": 447
        },
        "outputId": "1acc9fee-9e8b-42bd-99ba-20ed1da36e58",
        "id": "vNRLdVyBagKj"
      },
      "execution_count": null,
      "outputs": [
        {
          "output_type": "execute_result",
          "data": {
            "text/plain": [
              "<matplotlib.legend.Legend at 0x7b652c3c2f50>"
            ]
          },
          "metadata": {},
          "execution_count": 40
        },
        {
          "output_type": "display_data",
          "data": {
            "text/plain": [
              "<Figure size 640x480 with 1 Axes>"
            ],
            "image/png": "[encoded data removed]"
          },
          "metadata": {}
        }
      ]
    },
    {
      "cell_type": "code",
      "source": [
        "plt.plot(h1.history['accuracy'],label='accuracy ')\n",
        "plt.plot(h1.history['val_accuracy'],label='validation accuracy ')\n",
        "plt.legend()"
      ],
      "metadata": {
        "colab": {
          "base_uri": "https://localhost:8080/",
          "height": 447
        },
        "outputId": "851c48f9-8cb4-4d46-bbae-d301d2f636a3",
        "id": "OBtfrKQsagKk"
      },
      "execution_count": null,
      "outputs": [
        {
          "output_type": "execute_result",
          "data": {
            "text/plain": [
              "<matplotlib.legend.Legend at 0x7b6561a5b4f0>"
            ]
          },
          "metadata": {},
          "execution_count": 41
        },
        {
          "output_type": "display_data",
          "data": {
            "text/plain": [
              "<Figure size 640x480 with 1 Axes>"
            ],
            "image/png": "[encoded data removed]"
          },
          "metadata": {}
        }
      ]
    },
    {
      "cell_type": "code",
      "source": [
        "from sklearn.metrics import confusion_matrix\n",
        "conf(X_test_lasso_selected,y_test,model1)"
      ],
      "metadata": {
        "colab": {
          "base_uri": "https://localhost:8080/",
          "height": 540
        },
        "outputId": "bd95c195-f2c4-4571-9893-66e5d850fb80",
        "id": "gXGDGpKsagKk"
      },
      "execution_count": null,
      "outputs": [
        {
          "output_type": "display_data",
          "data": {
            "text/plain": [
              "<Figure size 1000x500 with 2 Axes>"
            ],
            "image/png": "[encoded data removed]"
          },
          "metadata": {}
        }
      ]
    },
    {
      "cell_type": "code",
      "source": [
        "models=['LSTM']\n",
        "results=pd.DataFrame({'Models':models,'Accuracy':acc, 'Precision':precision,'Recall':recall,'F1':f1,'AURoc':auroc})\n",
        "results"
      ],
      "metadata": {
        "colab": {
          "base_uri": "https://localhost:8080/",
          "height": 81
        },
        "outputId": "0c3a01d3-66cd-40bf-8460-1cfb395ab968",
        "id": "L-Yb3SE0agKk"
      },
      "execution_count": null,
      "outputs": [
        {
          "output_type": "execute_result",
          "data": {
            "text/plain": [
              "  Models  Accuracy  Precision    Recall        F1     AURoc\n",
              "0   LSTM  0.718921   0.729531  0.954307  0.826916  0.557253"
            ],
            "text/html": [
              "\n",
              "  <div id=\"df-1b1a333b-86af-435e-9877-849458c07c1e\" class=\"colab-df-container\">\n",
              "    <div>\n",
              "<style scoped>\n",
              "    .dataframe tbody tr th:only-of-type {\n",
              "        vertical-align: middle;\n",
              "    }\n",
              "\n",
              "    .dataframe tbody tr th {\n",
              "        vertical-align: top;\n",
              "    }\n",
              "\n",
              "    .dataframe thead th {\n",
              "        text-align: right;\n",
              "    }\n",
              "</style>\n",
              "<table border=\"1\" class=\"dataframe\">\n",
              "  <thead>\n",
              "    <tr style=\"text-align: right;\">\n",
              "      <th></th>\n",
              "      <th>Models</th>\n",
              "      <th>Accuracy</th>\n",
              "      <th>Precision</th>\n",
              "      <th>Recall</th>\n",
              "      <th>F1</th>\n",
              "      <th>AURoc</th>\n",
              "    </tr>\n",
              "  </thead>\n",
              "  <tbody>\n",
              "    <tr>\n",
              "      <th>0</th>\n",
              "      <td>LSTM</td>\n",
              "      <td>0.718921</td>\n",
              "      <td>0.729531</td>\n",
              "      <td>0.954307</td>\n",
              "      <td>0.826916</td>\n",
              "      <td>0.557253</td>\n",
              "    </tr>\n",
              "  </tbody>\n",
              "</table>\n",
              "</div>\n",
              "    <div class=\"colab-df-buttons\">\n",
              "\n",
              "  <div class=\"colab-df-container\">\n",
              "    <button class=\"colab-df-convert\" onclick=\"convertToInteractive('df-1b1a333b-86af-435e-9877-849458c07c1e')\"\n",
              "            title=\"Convert this dataframe to an interactive table.\"\n",
              "            style=\"display:none;\">\n",
              "\n",
              "  <svg xmlns=\"http://www.w3.org/2000/svg\" height=\"24px\" viewBox=\"0 -960 960 960\">\n",
              "    <path d=\"M120-120v-720h720v720H120Zm60-500h600v-160H180v160Zm220 220h160v-160H400v160Zm0 220h160v-160H400v160ZM180-400h160v-160H180v160Zm440 0h160v-160H620v160ZM180-180h160v-160H180v160Zm440 0h160v-160H620v160Z\"/>\n",
              "  </svg>\n",
              "    </button>\n",
              "\n",
              "  <style>\n",
              "    .colab-df-container {\n",
              "      display:flex;\n",
              "      gap: 12px;\n",
              "    }\n",
              "\n",
              "    .colab-df-convert {\n",
              "      background-color: #E8F0FE;\n",
              "      border: none;\n",
              "      border-radius: 50%;\n",
              "      cursor: pointer;\n",
              "      display: none;\n",
              "      fill: #1967D2;\n",
              "      height: 32px;\n",
              "      padding: 0 0 0 0;\n",
              "      width: 32px;\n",
              "    }\n",
              "\n",
              "    .colab-df-convert:hover {\n",
              "      background-color: #E2EBFA;\n",
              "      box-shadow: 0px 1px 2px rgba(60, 64, 67, 0.3), 0px 1px 3px 1px rgba(60, 64, 67, 0.15);\n",
              "      fill: #174EA6;\n",
              "    }\n",
              "\n",
              "    .colab-df-buttons div {\n",
              "      margin-bottom: 4px;\n",
              "    }\n",
              "\n",
              "    [theme=dark] .colab-df-convert {\n",
              "      background-color: #3B4455;\n",
              "      fill: #D2E3FC;\n",
              "    }\n",
              "\n",
              "    [theme=dark] .colab-df-convert:hover {\n",
              "      background-color: #434B5C;\n",
              "      box-shadow: 0px 1px 3px 1px rgba(0, 0, 0, 0.15);\n",
              "      filter: drop-shadow(0px 1px 2px rgba(0, 0, 0, 0.3));\n",
              "      fill: #FFFFFF;\n",
              "    }\n",
              "  </style>\n",
              "\n",
              "    <script>\n",
              "      const buttonEl =\n",
              "        document.querySelector('#df-1b1a333b-86af-435e-9877-849458c07c1e button.colab-df-convert');\n",
              "      buttonEl.style.display =\n",
              "        google.colab.kernel.accessAllowed ? 'block' : 'none';\n",
              "\n",
              "      async function convertToInteractive(key) {\n",
              "        const element = document.querySelector('#df-1b1a333b-86af-435e-9877-849458c07c1e');\n",
              "        const dataTable =\n",
              "          await google.colab.kernel.invokeFunction('convertToInteractive',\n",
              "                                                    [key], {});\n",
              "        if (!dataTable) return;\n",
              "\n",
              "        const docLinkHtml = 'Like what you see? Visit the ' +\n",
              "          '<a target=\"_blank\" href=https://colab.research.google.com/notebooks/data_table.ipynb>data table notebook</a>'\n",
              "          + ' to learn more about interactive tables.';\n",
              "        element.innerHTML = '';\n",
              "        dataTable['output_type'] = 'display_data';\n",
              "        await google.colab.output.renderOutput(dataTable, element);\n",
              "        const docLink = document.createElement('div');\n",
              "        docLink.innerHTML = docLinkHtml;\n",
              "        element.appendChild(docLink);\n",
              "      }\n",
              "    </script>\n",
              "  </div>\n",
              "\n",
              "    </div>\n",
              "  </div>\n"
            ]
          },
          "metadata": {},
          "execution_count": 43
        }
      ]
    }
  ]
}
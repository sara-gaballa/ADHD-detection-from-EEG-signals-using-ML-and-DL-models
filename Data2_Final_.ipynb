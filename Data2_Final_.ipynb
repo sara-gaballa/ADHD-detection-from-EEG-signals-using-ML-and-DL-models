{
  "cells": [
    {
      "cell_type": "markdown",
      "metadata": {
        "id": "view-in-github",
        "colab_type": "text"
      },
      "source": [
        "<a href=\"https://colab.research.google.com/github/sara-gaballa/ADHD-detection-from-EEG-signals-using-ML-and-DL-models/blob/main/Data2_Final_.ipynb\" target=\"_parent\"><img src=\"https://colab.research.google.com/assets/colab-badge.svg\" alt=\"Open In Colab\"/></a>"
      ]
    },
    {
      "cell_type": "code",
      "execution_count": null,
      "metadata": {
        "colab": {
          "background_save": true
        },
        "id": "CqTFg2-d1rhx",
        "outputId": "b06fe03a-a255-4f7e-be43-15a82a0c44e1"
      },
      "outputs": [
        {
          "name": "stdout",
          "output_type": "stream",
          "text": [
            "Mounted at /content/drive\n"
          ]
        }
      ],
      "source": [
        "from google.colab import drive\n",
        "drive.mount(\"/content/drive\")"
      ]
    },
    {
      "cell_type": "markdown",
      "metadata": {
        "id": "uiaSoDoz4oy0"
      },
      "source": [
        "##Features functions"
      ]
    },
    {
      "cell_type": "code",
      "execution_count": null,
      "metadata": {
        "colab": {
          "background_save": true
        },
        "id": "Dk8isbrZFa3Q",
        "outputId": "d90a13cf-3e4c-4568-bf38-0424c7db05fe"
      },
      "outputs": [
        {
          "name": "stdout",
          "output_type": "stream",
          "text": [
            "Collecting entropy\n",
            "  Downloading entropy-0.1.5.tar.gz (5.3 kB)\n",
            "  Preparing metadata (setup.py) ... \u001b[?25l\u001b[?25hdone\n",
            "Collecting colorama>=0.4.3 (from entropy)\n",
            "  Downloading colorama-0.4.6-py2.py3-none-any.whl (25 kB)\n",
            "Collecting docopt>=0.6.2 (from entropy)\n",
            "  Downloading docopt-0.6.2.tar.gz (25 kB)\n",
            "  Preparing metadata (setup.py) ... \u001b[?25l\u001b[?25hdone\n",
            "Requirement already satisfied: setuptools>=42.0.2 in /usr/local/lib/python3.10/dist-packages (from entropy) (67.7.2)\n",
            "Building wheels for collected packages: entropy, docopt\n",
            "  Building wheel for entropy (setup.py) ... \u001b[?25l\u001b[?25hdone\n",
            "  Created wheel for entropy: filename=entropy-0.1.5-py3-none-any.whl size=7177 sha256=72c3ecbce9adae1ac98d1a8d918a23d279717821f06ce2719197187d27ffcf6c\n",
            "  Stored in directory: /root/.cache/pip/wheels/7b/ae/a5/3981344d7be76f408fc6c9c280cb1706f033d4c1018913897a\n",
            "  Building wheel for docopt (setup.py) ... \u001b[?25l\u001b[?25hdone\n",
            "  Created wheel for docopt: filename=docopt-0.6.2-py2.py3-none-any.whl size=13705 sha256=4e834cd28ea4bad1e4702b8b61899f4a0cc32ec2965880de799b2a41bc268e2e\n",
            "  Stored in directory: /root/.cache/pip/wheels/fc/ab/d4/5da2067ac95b36618c629a5f93f809425700506f72c9732fac\n",
            "Successfully built entropy docopt\n",
            "Installing collected packages: docopt, colorama, entropy\n",
            "Successfully installed colorama-0.4.6 docopt-0.6.2 entropy-0.1.5\n"
          ]
        }
      ],
      "source": [
        "pip install entropy"
      ]
    },
    {
      "cell_type": "code",
      "execution_count": null,
      "metadata": {
        "colab": {
          "background_save": true
        },
        "id": "0sRVIjZ-QCjk",
        "outputId": "f261a652-0138-44f0-b61a-f63adcd948d4"
      },
      "outputs": [
        {
          "name": "stdout",
          "output_type": "stream",
          "text": [
            "Collecting antropy\n",
            "  Downloading antropy-0.1.6.tar.gz (17 kB)\n",
            "  Installing build dependencies ... \u001b[?25l\u001b[?25hdone\n",
            "  Getting requirements to build wheel ... \u001b[?25l\u001b[?25hdone\n",
            "  Preparing metadata (pyproject.toml) ... \u001b[?25l\u001b[?25hdone\n",
            "Requirement already satisfied: numpy in /usr/local/lib/python3.10/dist-packages (from antropy) (1.23.5)\n",
            "Requirement already satisfied: scipy in /usr/local/lib/python3.10/dist-packages (from antropy) (1.10.1)\n",
            "Requirement already satisfied: scikit-learn in /usr/local/lib/python3.10/dist-packages (from antropy) (1.2.2)\n",
            "Collecting numba>=0.57 (from antropy)\n",
            "  Downloading numba-0.57.1-cp310-cp310-manylinux2014_x86_64.manylinux_2_17_x86_64.whl (3.6 MB)\n",
            "\u001b[2K     \u001b[90m━━━━━━━━━━━━━━━━━━━━━━━━━━━━━━━━━━━━━━━━\u001b[0m \u001b[32m3.6/3.6 MB\u001b[0m \u001b[31m27.9 MB/s\u001b[0m eta \u001b[36m0:00:00\u001b[0m\n",
            "\u001b[?25hCollecting stochastic (from antropy)\n",
            "  Downloading stochastic-0.7.0-py3-none-any.whl (48 kB)\n",
            "\u001b[2K     \u001b[90m━━━━━━━━━━━━━━━━━━━━━━━━━━━━━━━━━━━━━━━━\u001b[0m \u001b[32m48.1/48.1 kB\u001b[0m \u001b[31m6.0 MB/s\u001b[0m eta \u001b[36m0:00:00\u001b[0m\n",
            "\u001b[?25hCollecting llvmlite<0.41,>=0.40.0dev0 (from numba>=0.57->antropy)\n",
            "  Downloading llvmlite-0.40.1-cp310-cp310-manylinux_2_17_x86_64.manylinux2014_x86_64.whl (42.1 MB)\n",
            "\u001b[2K     \u001b[90m━━━━━━━━━━━━━━━━━━━━━━━━━━━━━━━━━━━━━━━━\u001b[0m \u001b[32m42.1/42.1 MB\u001b[0m \u001b[31m27.2 MB/s\u001b[0m eta \u001b[36m0:00:00\u001b[0m\n",
            "\u001b[?25hRequirement already satisfied: joblib>=1.1.1 in /usr/local/lib/python3.10/dist-packages (from scikit-learn->antropy) (1.3.2)\n",
            "Requirement already satisfied: threadpoolctl>=2.0.0 in /usr/local/lib/python3.10/dist-packages (from scikit-learn->antropy) (3.2.0)\n",
            "Building wheels for collected packages: antropy\n",
            "  Building wheel for antropy (pyproject.toml) ... \u001b[?25l\u001b[?25hdone\n",
            "  Created wheel for antropy: filename=antropy-0.1.6-py3-none-any.whl size=16878 sha256=d569499731c71600fe082f46a5a0fdf8cfa00296032d0fe26a51de558b93d2c3\n",
            "  Stored in directory: /root/.cache/pip/wheels/98/22/06/e91d7bb213c7133d5e2eb34258623e1e19928d5f05e1ee6812\n",
            "Successfully built antropy\n",
            "Installing collected packages: llvmlite, stochastic, numba, antropy\n",
            "  Attempting uninstall: llvmlite\n",
            "    Found existing installation: llvmlite 0.39.1\n",
            "    Uninstalling llvmlite-0.39.1:\n",
            "      Successfully uninstalled llvmlite-0.39.1\n",
            "  Attempting uninstall: numba\n",
            "    Found existing installation: numba 0.56.4\n",
            "    Uninstalling numba-0.56.4:\n",
            "      Successfully uninstalled numba-0.56.4\n",
            "Successfully installed antropy-0.1.6 llvmlite-0.40.1 numba-0.57.1 stochastic-0.7.0\n"
          ]
        }
      ],
      "source": [
        "pip install antropy"
      ]
    },
    {
      "cell_type": "code",
      "execution_count": null,
      "metadata": {
        "colab": {
          "background_save": true
        },
        "id": "cegWwmELFZeI"
      },
      "outputs": [],
      "source": [
        "def bandpower(data, sf, band, window_sec=None, relative=False):\n",
        "    \"\"\"Compute the average power of the signal x in a specific frequency band.\n",
        "\n",
        "    Parameters\n",
        "    ----------\n",
        "    data : 1d-array\n",
        "        Input signal in the time-domain.\n",
        "    sf : float\n",
        "        Sampling frequency of the data.\n",
        "    band : list\n",
        "        Lower and upper frequencies of the band of interest.\n",
        "    window_sec : float\n",
        "        Length of each window in seconds.\n",
        "        If None, window_sec = (1 / min(band)) * 2\n",
        "    relative : boolean\n",
        "        If True, return the relative power (= divided by the total power of the signal).\n",
        "        If False (default), return the absolute power.\n",
        "\n",
        "    Return\n",
        "    ------\n",
        "    bp : float\n",
        "        Absolute or relative band power.\n",
        "    \"\"\"\n",
        "    from scipy.signal import welch\n",
        "    from scipy.integrate import simps\n",
        "    band = np.asarray(band)\n",
        "    low, high = band\n",
        "\n",
        "    # Define window length\n",
        "    if window_sec is not None:\n",
        "        nperseg = window_sec * sf\n",
        "    else:\n",
        "        nperseg = (2 / low) * sf\n",
        "\n",
        "    # Compute the modified periodogram (Welch)\n",
        "    freqs, psd = welch(data, sf, nperseg=nperseg)\n",
        "\n",
        "    # Frequency resolution\n",
        "    freq_res = freqs[1] - freqs[0]\n",
        "\n",
        "    # Find closest indices of band in frequency vector\n",
        "    idx_band = np.logical_and(freqs >= low, freqs <= high)\n",
        "\n",
        "    # Integral approximation of the spectrum using Simpson's rule.\n",
        "    bp = simps(psd[idx_band], dx=freq_res)\n",
        "\n",
        "    if relative:\n",
        "        bp /= simps(psd, dx=freq_res)\n",
        "    return bp"
      ]
    },
    {
      "cell_type": "code",
      "execution_count": null,
      "metadata": {
        "colab": {
          "background_save": true
        },
        "id": "SGJbdc4lGdCP",
        "outputId": "ed2f2cce-3313-45f3-f1e0-99c74790fe28"
      },
      "outputs": [
        {
          "name": "stdout",
          "output_type": "stream",
          "text": [
            "Collecting git+https://github.com/forrestbao/pyeeg.git\n",
            "  Cloning https://github.com/forrestbao/pyeeg.git to /tmp/pip-req-build-86ihdocx\n",
            "  Running command git clone --filter=blob:none --quiet https://github.com/forrestbao/pyeeg.git /tmp/pip-req-build-86ihdocx\n",
            "  Resolved https://github.com/forrestbao/pyeeg.git to commit a6c18bb093e4748f9d9c208535a6ae024a0802b8\n",
            "  Preparing metadata (setup.py) ... \u001b[?25l\u001b[?25hdone\n",
            "Requirement already satisfied: numpy>=1.9.2 in /usr/local/lib/python3.10/dist-packages (from pyeeg==0.4.4) (1.23.5)\n",
            "Building wheels for collected packages: pyeeg\n",
            "  Building wheel for pyeeg (setup.py) ... \u001b[?25l\u001b[?25hdone\n",
            "  Created wheel for pyeeg: filename=pyeeg-0.4.4-py2.py3-none-any.whl size=28111 sha256=7e91aeb3f57e8dfe4ad10b39484c5501be5ee21bcaa8d9ace1f0a21fd694d3ad\n",
            "  Stored in directory: /tmp/pip-ephem-wheel-cache-alwxp5ol/wheels/a8/c4/1a/cee09dcc12a11620066d35ace42e3c1e3bfbcc1db3a0ce7788\n",
            "Successfully built pyeeg\n",
            "Installing collected packages: pyeeg\n",
            "Successfully installed pyeeg-0.4.4\n"
          ]
        }
      ],
      "source": [
        "pip install git+https://github.com/forrestbao/pyeeg.git"
      ]
    },
    {
      "cell_type": "code",
      "execution_count": null,
      "metadata": {
        "colab": {
          "background_save": true
        },
        "id": "QZu-tpqnCfJE",
        "outputId": "306e5294-c661-4a9b-a49b-bbf5008210ed"
      },
      "outputs": [
        {
          "name": "stdout",
          "output_type": "stream",
          "text": [
            "Collecting git+https://github.com/raphaelvallat/entropy.git\n",
            "  Cloning https://github.com/raphaelvallat/entropy.git to /tmp/pip-req-build-qovkt7on\n",
            "  Running command git clone --filter=blob:none --quiet https://github.com/raphaelvallat/entropy.git /tmp/pip-req-build-qovkt7on\n",
            "  Resolved https://github.com/raphaelvallat/entropy.git to commit 216cd1c10148fe13fc02f56c69724028daec58c8\n",
            "  Preparing metadata (setup.py) ... \u001b[?25l\u001b[?25hdone\n",
            "Building wheels for collected packages: entropy\n",
            "  Building wheel for entropy (setup.py) ... \u001b[?25l\u001b[?25hdone\n",
            "  Created wheel for entropy: filename=entropy-0.1.3-py3-none-any.whl size=16108 sha256=fc77c484962310528e25dbf3ab4720787b7ca6f09bae12057384377f37404526\n",
            "  Stored in directory: /tmp/pip-ephem-wheel-cache-96tsf6e5/wheels/86/6f/2e/c44cb24d79e0dcdbb5938aae85d12613d99d925b56086cd096\n",
            "Successfully built entropy\n",
            "Installing collected packages: entropy\n",
            "  Attempting uninstall: entropy\n",
            "    Found existing installation: entropy 0.1.5\n",
            "    Uninstalling entropy-0.1.5:\n",
            "      Successfully uninstalled entropy-0.1.5\n",
            "Successfully installed entropy-0.1.3\n"
          ]
        }
      ],
      "source": [
        "pip install git+https://github.com/raphaelvallat/entropy.git"
      ]
    },
    {
      "cell_type": "code",
      "execution_count": null,
      "metadata": {
        "colab": {
          "background_save": true
        },
        "id": "uw18FqLnK_bE"
      },
      "outputs": [],
      "source": [
        "from scipy import stats\n",
        "import scipy as sp\n",
        "import antropy as ent\n",
        "\n",
        "def mean(data):\n",
        "    return np.mean(data,axis=-1)\n",
        "\n",
        "def std(data):\n",
        "    return np.std(data,axis=-1)\n",
        "\n",
        "def ptp(data):\n",
        "    return np.ptp(data,axis=-1)\n",
        "\n",
        "def var(data):\n",
        "        return np.var(data,axis=-1)\n",
        "\n",
        "def minim(data):\n",
        "      return np.min(data,axis=-1)\n",
        "\n",
        "def maxim(data):\n",
        "      return np.max(data,axis=-1)\n",
        "\n",
        "def rms(data): #root mean square\n",
        "      return  np.sqrt(np.mean(data**2,axis=-1))\n",
        "\n",
        "def abs_diffs_signal(data):\n",
        "    return np.sum(np.abs(np.diff(data,axis=-1)),axis=-1)\n",
        "\n",
        "def median(data):\n",
        "    return np.median(data, axis=-1)\n",
        "\n",
        "def q1(data):\n",
        "    return np.quantile(data, 0.25, axis=-1)\n",
        "\n",
        "def q3(data):\n",
        "    return np.quantile(data, 0.75, axis=-1)\n",
        "\n",
        "def skewness(data):\n",
        "    return stats.skew(data,axis=-1)\n",
        "\n",
        "def kurtosis(data):\n",
        "    return stats.kurtosis(data,axis=-1)\n",
        "\n",
        "def mobility(data):\n",
        "  mob, comp = ent.hjorth_params(data)\n",
        "  return mob\n",
        "\n",
        "def complexity(data):\n",
        "  mob, comp = ent.hjorth_params(data)\n",
        "  return comp\n",
        "\n",
        "def power(data):\n",
        "  return np.sum(data*data, 1) / data.size\n",
        "\n",
        "def energy(data):\n",
        "  return np.sum(data*data, 1)\n",
        "\n",
        "def fft(data):\n",
        "  return np.fft(data, axis=-1)"
      ]
    },
    {
      "cell_type": "markdown",
      "metadata": {
        "id": "SwKuEh3CD9HZ"
      },
      "source": [
        "PyEEG features"
      ]
    },
    {
      "cell_type": "code",
      "execution_count": null,
      "metadata": {
        "colab": {
          "background_save": true
        },
        "id": "CWOezzmWD_2Y"
      },
      "outputs": [],
      "source": [
        "import pyeeg\n",
        "from pyeeg import bin_power, pfd, hfd, svd_entropy, spectral_entropy, dfa, fisher_info, ap_entropy, hurst\n",
        "\n",
        "def pfd2(data):\n",
        "  res = []\n",
        "  for channel in data:\n",
        "    res.append(pfd(channel))\n",
        "  return res\n",
        "\n",
        "def hfd2(data):\n",
        "  res = []\n",
        "  for channel in data:\n",
        "    res.append(higuchi_fd(channel))\n",
        "  return res\n",
        "\n",
        "def svd(data):\n",
        "  res = []\n",
        "  for channel in data:\n",
        "    res.append(svd_entropy(channel))\n",
        "  return res\n",
        "\n",
        "def spe(data):\n",
        "  res = []\n",
        "  band = [0.5,4,8,12,30,64]\n",
        "  fs = 128\n",
        "  for channel in data:\n",
        "    Power, Power_Ratio = bin_power(channel, band, fs)\n",
        "    res.append(spectral_entropy(channel, band, fs, Power_Ratio=Power_Ratio))\n",
        "  return res\n",
        "\n",
        "def dfa2(data):\n",
        "  res = []\n",
        "  for channel in data:\n",
        "    res.append(detrended_fluctuation(channel))\n",
        "  return res\n",
        "\n",
        "def fish(data):\n",
        "  res = []\n",
        "  for channel in data:\n",
        "    res.append(fisher_info(channel))\n",
        "  return res\n",
        "\n",
        "def ape(data):\n",
        "  res = []\n",
        "  for channel in data:\n",
        "    res.append(ap_entropy(channel))\n",
        "  return res\n",
        "\n",
        "def hurst2(data):\n",
        "  res = []\n",
        "  for channel in data:\n",
        "    res.append(hurst(channel))\n",
        "  return res"
      ]
    },
    {
      "cell_type": "code",
      "execution_count": null,
      "metadata": {
        "colab": {
          "background_save": true
        },
        "id": "W6F9AZeSCVhH",
        "outputId": "60468c6e-bfe3-4c78-f56c-54669417239b"
      },
      "outputs": [
        {
          "name": "stderr",
          "output_type": "stream",
          "text": [
            "/usr/local/lib/python3.10/dist-packages/entropy/fractal.py:197: NumbaDeprecationWarning: \u001b[1mThe 'nopython' keyword argument was not supplied to the 'numba.jit' decorator. The implicit default value for this argument is currently False, but it will be changed to True in Numba 0.59.0. See https://numba.readthedocs.io/en/stable/reference/deprecation.html#deprecation-of-object-mode-fall-back-behaviour-when-using-jit for details.\u001b[0m\n",
            "  @jit('float64(float64[:], int32)')\n"
          ]
        }
      ],
      "source": [
        "from entropy import petrosian_fd, katz_fd, higuchi_fd, detrended_fluctuation"
      ]
    },
    {
      "cell_type": "code",
      "execution_count": null,
      "metadata": {
        "colab": {
          "background_save": true
        },
        "id": "AmuP_CjaT8K_"
      },
      "outputs": [],
      "source": [
        "def concatenate_features(data):\n",
        "    return np.concatenate((mean(data),std(data),ptp(data),var(data),minim(data),maxim(data),median(data), q1(data), q3(data),\n",
        "                          rms(data),abs_diffs_signal(data), mobility(data), complexity(data), power(data), energy(data),\n",
        "                          skewness(data),kurtosis(data),spe(data),katz_fd(data),hfd2(data),dfa2(data),\n",
        "                           petrosian_fd(data),hurst2(data)),axis=-1)"
      ]
    },
    {
      "cell_type": "markdown",
      "metadata": {
        "id": "fBkeXaLm4xmF"
      },
      "source": [
        "##Data 2 importing"
      ]
    },
    {
      "cell_type": "code",
      "execution_count": null,
      "metadata": {
        "colab": {
          "background_save": true
        },
        "id": "U3IP4jvK40Qk"
      },
      "outputs": [],
      "source": [
        "import os\n",
        "import pandas as pd\n",
        "\n",
        "folder_path = '/content/drive/MyDrive/Dataset 2/data files'"
      ]
    },
    {
      "cell_type": "code",
      "execution_count": null,
      "metadata": {
        "colab": {
          "background_save": true
        },
        "id": "swZ-8ZVeBalM",
        "outputId": "0ca3d981-2720-484a-9a0a-cea9cb8afadc"
      },
      "outputs": [
        {
          "name": "stdout",
          "output_type": "stream",
          "text": [
            "Collecting mat73\n",
            "  Downloading mat73-0.62-py3-none-any.whl (19 kB)\n",
            "Requirement already satisfied: h5py in /usr/local/lib/python3.10/dist-packages (from mat73) (3.9.0)\n",
            "Requirement already satisfied: numpy in /usr/local/lib/python3.10/dist-packages (from mat73) (1.23.5)\n",
            "Installing collected packages: mat73\n",
            "Successfully installed mat73-0.62\n"
          ]
        }
      ],
      "source": [
        "pip install mat73"
      ]
    },
    {
      "cell_type": "code",
      "execution_count": null,
      "metadata": {
        "colab": {
          "background_save": true
        },
        "id": "jpDrv9FS43pO",
        "outputId": "8eeb162d-41b7-40df-cec8-d01e366fe6f6"
      },
      "outputs": [
        {
          "name": "stdout",
          "output_type": "stream",
          "text": [
            "File d1.mat does not exist.\n",
            "File d2.mat does not exist.\n",
            "File d3.mat does not exist.\n",
            "File d4.mat does not exist.\n",
            "File d5.mat does not exist.\n",
            "File d6.mat does not exist.\n",
            "File d7.mat does not exist.\n"
          ]
        }
      ],
      "source": [
        "import scipy.io\n",
        "import os\n",
        "import numpy as np\n",
        "import mat73\n",
        "\n",
        "# Prefix and suffix of the filenames\n",
        "prefix = 'd'\n",
        "suffix = '.mat'\n",
        "# Range of file numbers to read\n",
        "start_num = 1\n",
        "end_num = 7\n",
        "\n",
        "# Initialize an empty list to store the extracted data\n",
        "data_list = []\n",
        "\n",
        "# Loop over the desired file numbers and read the corresponding .mat files\n",
        "for num in range(start_num, end_num+1):\n",
        "  # Construct the filename\n",
        "  filename = prefix + str(num) + suffix\n",
        "  filepath = os.path.join(folder_path, filename)\n",
        "\n",
        "  # Check if file exists\n",
        "  if os.path.exists(filepath):\n",
        "      # Load the .mat file and extract the desired variables\n",
        "      mat = mat73.loadmat(filepath)\n",
        "\n",
        "      # Append the extracted data to the list of data\n",
        "      data_list.append(np.array(mat[prefix+str(num)]))\n",
        "  else:\n",
        "      print('File ' + filename + ' does not exist.')"
      ]
    },
    {
      "cell_type": "code",
      "execution_count": null,
      "metadata": {
        "colab": {
          "background_save": true
        },
        "id": "DaizASHu46Q3",
        "outputId": "1b8edc81-946a-441f-b0ae-ebbee44b1e87"
      },
      "outputs": [
        {
          "ename": "IndexError",
          "evalue": "ignored",
          "output_type": "error",
          "traceback": [
            "\u001b[0;31m---------------------------------------------------------------------------\u001b[0m",
            "\u001b[0;31mIndexError\u001b[0m                                Traceback (most recent call last)",
            "\u001b[0;32m<ipython-input-30-c75210d5e8de>\u001b[0m in \u001b[0;36m<cell line: 2>\u001b[0;34m()\u001b[0m\n\u001b[1;32m      1\u001b[0m \u001b[0;31m# Concatente all arrays\u001b[0m\u001b[0;34m\u001b[0m\u001b[0;34m\u001b[0m\u001b[0m\n\u001b[0;32m----> 2\u001b[0;31m \u001b[0mdata\u001b[0m \u001b[0;34m=\u001b[0m \u001b[0mdata_list\u001b[0m\u001b[0;34m[\u001b[0m\u001b[0;36m0\u001b[0m\u001b[0;34m]\u001b[0m\u001b[0;34m\u001b[0m\u001b[0;34m\u001b[0m\u001b[0m\n\u001b[0m\u001b[1;32m      3\u001b[0m \u001b[0;32mfor\u001b[0m \u001b[0mi\u001b[0m \u001b[0;32min\u001b[0m \u001b[0mrange\u001b[0m\u001b[0;34m(\u001b[0m\u001b[0;36m1\u001b[0m\u001b[0;34m,\u001b[0m \u001b[0;36m7\u001b[0m\u001b[0;34m)\u001b[0m\u001b[0;34m:\u001b[0m\u001b[0;34m\u001b[0m\u001b[0;34m\u001b[0m\u001b[0m\n\u001b[1;32m      4\u001b[0m   \u001b[0mdata\u001b[0m \u001b[0;34m=\u001b[0m \u001b[0mnp\u001b[0m\u001b[0;34m.\u001b[0m\u001b[0mconcatenate\u001b[0m\u001b[0;34m(\u001b[0m\u001b[0;34m(\u001b[0m\u001b[0mdata\u001b[0m\u001b[0;34m,\u001b[0m \u001b[0mdata_list\u001b[0m\u001b[0;34m[\u001b[0m\u001b[0mi\u001b[0m\u001b[0;34m]\u001b[0m\u001b[0;34m)\u001b[0m\u001b[0;34m)\u001b[0m\u001b[0;34m\u001b[0m\u001b[0;34m\u001b[0m\u001b[0m\n\u001b[1;32m      5\u001b[0m \u001b[0mprint\u001b[0m\u001b[0;34m(\u001b[0m\u001b[0mdata\u001b[0m\u001b[0;34m.\u001b[0m\u001b[0mshape\u001b[0m\u001b[0;34m)\u001b[0m\u001b[0;34m\u001b[0m\u001b[0;34m\u001b[0m\u001b[0m\n",
            "\u001b[0;31mIndexError\u001b[0m: list index out of range"
          ]
        }
      ],
      "source": [
        "# Concatente all arrays\n",
        "data = data_list[0]\n",
        "for i in range(1, 7):\n",
        "  data = np.concatenate((data, data_list[i]))\n",
        "print(data.shape)\n",
        "del(data_list)"
      ]
    },
    {
      "cell_type": "code",
      "execution_count": null,
      "metadata": {
        "colab": {
          "background_save": true
        },
        "id": "g0Jz5vts49CS"
      },
      "outputs": [],
      "source": [
        "import numpy as np\n",
        "\n",
        "control_trials = 10129\n",
        "ADD_trials = 13031\n",
        "ADHD_trials = 10742\n",
        "\n",
        "HC = np.zeros(control_trials)\n",
        "ADD = np.ones(ADD_trials + ADHD_trials )\n",
        "# ADHD = np.full(ADHD_trials, \"ADHD\")  # Fill with 2\n",
        "# y = np.concatenate((HC, ADD, ADHD))\n",
        "y = np.concatenate((HC, ADD))\n",
        "print(y.shape)\n"
      ]
    },
    {
      "cell_type": "code",
      "execution_count": null,
      "metadata": {
        "colab": {
          "background_save": true
        },
        "id": "RVriOG6EVQ08"
      },
      "outputs": [],
      "source": [
        "# import numpy as np\n",
        "# from scipy import stats\n",
        "# from sklearn.feature_selection import SelectKBest, f_classif\n",
        "# from sklearn.ensemble import RandomForestClassifier\n",
        "# from sklearn.model_selection import train_test_split\n",
        "# from sklearn.metrics import accuracy_score\n",
        "\n",
        "# from tqdm import tqdm_notebook\n",
        "# features=[]\n",
        "# for trial in tqdm_notebook(data):\n",
        "#     features.append(concatenate_features(trial))\n",
        "# features=np.array(features)\n",
        "# features.shape\n",
        "\n",
        "# import numpy as np\n",
        "# # Saving the array\n",
        "# np.savetxt(\"/content/drive/MyDrive/Dataset 2/\" + \"features_pyeeg2_Data2.csv\", features, delimiter=\",\")"
      ]
    },
    {
      "cell_type": "code",
      "execution_count": null,
      "metadata": {
        "colab": {
          "background_save": true
        },
        "id": "pU0p9wN_uNnn"
      },
      "outputs": [],
      "source": [
        "# import numpy as np\n",
        "# # Saving the array\n",
        "# np.savetxt(\"/content/drive/MyDrive/Dataset 2/\" + \"features_pyeeg2_Data2.csv\", features, delimiter=\",\")"
      ]
    },
    {
      "cell_type": "code",
      "execution_count": null,
      "metadata": {
        "colab": {
          "background_save": true
        },
        "id": "PPif3WvUVT1H"
      },
      "outputs": [],
      "source": [
        "# import numpy as np\n",
        "# import matplotlib.pyplot as plt\n",
        "# from scipy.signal import welch\n",
        "# from scipy.integrate import simps\n",
        "\n",
        "# window_size = 2\n",
        "\n",
        "# # Function to compute PSD features for a single EEG channel\n",
        "# def compute_psd_features(eeg_channel, fs):\n",
        "#     # Compute the Power Spectral Density using Welch's method\n",
        "#     f, psd = welch(eeg_channel, fs=fs, nperseg=fs*window_size)  # Adjust nperseg based on your data\n",
        "\n",
        "#     # Define frequency bands (adjust as needed)\n",
        "#     delta_band = (0.5, 4)     # Delta (0.5-4 Hz)\n",
        "#     theta_band = (4, 8)       # Theta (4-8 Hz)\n",
        "#     alpha_band = (8, 13)      # Alpha (8-12 Hz)\n",
        "#     beta_band = (13, 30)      # Beta (12-30 Hz)\n",
        "#     gamma_band = (30, 64)     # Gamma (30-64 Hz)\n",
        "\n",
        "#     # Calculate the mean power in each frequency band\n",
        "#     delta_power = np.mean(psd[(f >= delta_band[0]) & (f < delta_band[1])])\n",
        "\n",
        "#     theta_power = np.mean(psd[(f >= theta_band[0]) & (f < theta_band[1])])\n",
        "\n",
        "#     alpha_power = np.mean(psd[(f >= alpha_band[0]) & (f < alpha_band[1])])\n",
        "\n",
        "#     beta_power = np.mean(psd[(f >= beta_band[0]) & (f < beta_band[1])])\n",
        "\n",
        "#     gamma_power = np.mean(psd[(f >= gamma_band[0]) & (f < gamma_band[1])])\n",
        "\n",
        "#     return delta_power, theta_power, alpha_power, beta_power, gamma_power\n",
        "\n"
      ]
    },
    {
      "cell_type": "code",
      "execution_count": null,
      "metadata": {
        "colab": {
          "background_save": true
        },
        "id": "Zo39pUdCVepP"
      },
      "outputs": [],
      "source": [
        "# # Sample 3D EEG data (replace this with your actual EEG data)\n",
        "# num_samples = data.shape[0]\n",
        "# num_channels = data.shape[1]\n",
        "# num_timesteps = data.shape[2]\n",
        "# fs = 500  # Sampling frequency in Hz\n",
        "\n",
        "# # Initialize lists to store PSD features for each EEG channel\n",
        "# delta_powers = []\n",
        "# theta_powers = []\n",
        "# alpha_powers = []\n",
        "# beta_powers = []\n",
        "# gamma_powers = []\n",
        "\n",
        "# # Loop through each EEG sample and each EEG channel to compute PSD features\n",
        "# for sample in range(num_samples):\n",
        "#     sample_delta_powers = []\n",
        "#     sample_theta_powers = []\n",
        "#     sample_alpha_powers = []\n",
        "#     sample_beta_powers = []\n",
        "#     sample_gamma_powers = []\n",
        "\n",
        "#     for channel in range(num_channels):\n",
        "#         eeg_channel = data[sample, channel, :]\n",
        "#         delta_power, theta_power, alpha_power, beta_power, gamma_power = compute_psd_features(eeg_channel, fs)\n",
        "\n",
        "#         sample_delta_powers.append(delta_power)\n",
        "#         sample_theta_powers.append(theta_power)\n",
        "#         sample_alpha_powers.append(alpha_power)\n",
        "#         sample_beta_powers.append(beta_power)\n",
        "#         sample_gamma_powers.append(gamma_power)\n",
        "\n",
        "#     delta_powers.append(sample_delta_powers)\n",
        "#     theta_powers.append(sample_theta_powers)\n",
        "#     alpha_powers.append(sample_alpha_powers)\n",
        "#     beta_powers.append(sample_beta_powers)\n",
        "#     gamma_powers.append(sample_gamma_powers)\n"
      ]
    },
    {
      "cell_type": "code",
      "execution_count": null,
      "metadata": {
        "colab": {
          "background_save": true
        },
        "id": "g2hwMsXtViG6"
      },
      "outputs": [],
      "source": [
        "import numpy as np\n",
        "import pandas as pd\n",
        "import matplotlib.pyplot as plt\n",
        "import seaborn as sns\n",
        "from sklearn.model_selection import train_test_split\n",
        "from sklearn.neighbors import KNeighborsClassifier\n",
        "from sklearn.metrics import accuracy_score, classification_report, confusion_matrix"
      ]
    },
    {
      "cell_type": "code",
      "execution_count": null,
      "metadata": {
        "colab": {
          "background_save": true
        },
        "id": "8i10EFxXVi3p"
      },
      "outputs": [],
      "source": [
        "# # Combine the extracted PSD features into a single feature matrix\n",
        "# psd_features = np.column_stack((delta_powers, theta_powers, alpha_powers, beta_powers, gamma_powers))\n",
        "# nfeatures = np.hstack((features, psd_features))"
      ]
    },
    {
      "cell_type": "markdown",
      "metadata": {
        "id": "KEE6BhHaVuzM"
      },
      "source": [
        "Save the calculated features\n"
      ]
    },
    {
      "cell_type": "code",
      "execution_count": null,
      "metadata": {
        "colab": {
          "background_save": true
        },
        "id": "XEuOboWoVoaP"
      },
      "outputs": [],
      "source": [
        "# # Saving the array\n",
        "# np.savetxt(\"/content/drive/MyDrive/Dataset 2/\" + \"ffffffeatures_pyeeg2_Data2.csv\", nfeatures, delimiter=\",\")"
      ]
    },
    {
      "cell_type": "markdown",
      "metadata": {
        "id": "EaKloZV3V3T_"
      },
      "source": [
        "Reading from file\n"
      ]
    },
    {
      "cell_type": "code",
      "execution_count": null,
      "metadata": {
        "colab": {
          "background_save": true
        },
        "id": "vYtkopKQV7M8",
        "outputId": "3539dc36-c35a-4ed0-9518-a07acc786566"
      },
      "outputs": [
        {
          "ename": "FileNotFoundError",
          "evalue": "ignored",
          "output_type": "error",
          "traceback": [
            "\u001b[0;31m---------------------------------------------------------------------------\u001b[0m",
            "\u001b[0;31mFileNotFoundError\u001b[0m                         Traceback (most recent call last)",
            "\u001b[0;32m<ipython-input-38-6d4afacb9147>\u001b[0m in \u001b[0;36m<cell line: 2>\u001b[0;34m()\u001b[0m\n\u001b[1;32m      1\u001b[0m \u001b[0;31m# Reading the csv into an array (for the first features)\u001b[0m\u001b[0;34m\u001b[0m\u001b[0;34m\u001b[0m\u001b[0m\n\u001b[0;32m----> 2\u001b[0;31m \u001b[0mnnfeatures\u001b[0m \u001b[0;34m=\u001b[0m \u001b[0mnp\u001b[0m\u001b[0;34m.\u001b[0m\u001b[0mgenfromtxt\u001b[0m\u001b[0;34m(\u001b[0m\u001b[0;34m\"/content/drive/MyDrive/Dataset 2/features_pyeeg2_Data2.csv\"\u001b[0m\u001b[0;34m,\u001b[0m \u001b[0mdelimiter\u001b[0m\u001b[0;34m=\u001b[0m\u001b[0;34m\",\"\u001b[0m\u001b[0;34m)\u001b[0m\u001b[0;34m\u001b[0m\u001b[0;34m\u001b[0m\u001b[0m\n\u001b[0m\u001b[1;32m      3\u001b[0m \u001b[0mprint\u001b[0m\u001b[0;34m(\u001b[0m\u001b[0mnnfeatures\u001b[0m\u001b[0;34m.\u001b[0m\u001b[0mshape\u001b[0m\u001b[0;34m)\u001b[0m\u001b[0;34m\u001b[0m\u001b[0;34m\u001b[0m\u001b[0m\n",
            "\u001b[0;32m/usr/local/lib/python3.10/dist-packages/numpy/lib/npyio.py\u001b[0m in \u001b[0;36mgenfromtxt\u001b[0;34m(fname, dtype, comments, delimiter, skip_header, skip_footer, converters, missing_values, filling_values, usecols, names, excludelist, deletechars, replace_space, autostrip, case_sensitive, defaultfmt, unpack, usemask, loose, invalid_raise, max_rows, encoding, ndmin, like)\u001b[0m\n\u001b[1;32m   1957\u001b[0m         \u001b[0mfname\u001b[0m \u001b[0;34m=\u001b[0m \u001b[0mos_fspath\u001b[0m\u001b[0;34m(\u001b[0m\u001b[0mfname\u001b[0m\u001b[0;34m)\u001b[0m\u001b[0;34m\u001b[0m\u001b[0;34m\u001b[0m\u001b[0m\n\u001b[1;32m   1958\u001b[0m     \u001b[0;32mif\u001b[0m \u001b[0misinstance\u001b[0m\u001b[0;34m(\u001b[0m\u001b[0mfname\u001b[0m\u001b[0;34m,\u001b[0m \u001b[0mstr\u001b[0m\u001b[0;34m)\u001b[0m\u001b[0;34m:\u001b[0m\u001b[0;34m\u001b[0m\u001b[0;34m\u001b[0m\u001b[0m\n\u001b[0;32m-> 1959\u001b[0;31m         \u001b[0mfid\u001b[0m \u001b[0;34m=\u001b[0m \u001b[0mnp\u001b[0m\u001b[0;34m.\u001b[0m\u001b[0mlib\u001b[0m\u001b[0;34m.\u001b[0m\u001b[0m_datasource\u001b[0m\u001b[0;34m.\u001b[0m\u001b[0mopen\u001b[0m\u001b[0;34m(\u001b[0m\u001b[0mfname\u001b[0m\u001b[0;34m,\u001b[0m \u001b[0;34m'rt'\u001b[0m\u001b[0;34m,\u001b[0m \u001b[0mencoding\u001b[0m\u001b[0;34m=\u001b[0m\u001b[0mencoding\u001b[0m\u001b[0;34m)\u001b[0m\u001b[0;34m\u001b[0m\u001b[0;34m\u001b[0m\u001b[0m\n\u001b[0m\u001b[1;32m   1960\u001b[0m         \u001b[0mfid_ctx\u001b[0m \u001b[0;34m=\u001b[0m \u001b[0mcontextlib\u001b[0m\u001b[0;34m.\u001b[0m\u001b[0mclosing\u001b[0m\u001b[0;34m(\u001b[0m\u001b[0mfid\u001b[0m\u001b[0;34m)\u001b[0m\u001b[0;34m\u001b[0m\u001b[0;34m\u001b[0m\u001b[0m\n\u001b[1;32m   1961\u001b[0m     \u001b[0;32melse\u001b[0m\u001b[0;34m:\u001b[0m\u001b[0;34m\u001b[0m\u001b[0;34m\u001b[0m\u001b[0m\n",
            "\u001b[0;32m/usr/local/lib/python3.10/dist-packages/numpy/lib/_datasource.py\u001b[0m in \u001b[0;36mopen\u001b[0;34m(path, mode, destpath, encoding, newline)\u001b[0m\n\u001b[1;32m    191\u001b[0m \u001b[0;34m\u001b[0m\u001b[0m\n\u001b[1;32m    192\u001b[0m     \u001b[0mds\u001b[0m \u001b[0;34m=\u001b[0m \u001b[0mDataSource\u001b[0m\u001b[0;34m(\u001b[0m\u001b[0mdestpath\u001b[0m\u001b[0;34m)\u001b[0m\u001b[0;34m\u001b[0m\u001b[0;34m\u001b[0m\u001b[0m\n\u001b[0;32m--> 193\u001b[0;31m     \u001b[0;32mreturn\u001b[0m \u001b[0mds\u001b[0m\u001b[0;34m.\u001b[0m\u001b[0mopen\u001b[0m\u001b[0;34m(\u001b[0m\u001b[0mpath\u001b[0m\u001b[0;34m,\u001b[0m \u001b[0mmode\u001b[0m\u001b[0;34m,\u001b[0m \u001b[0mencoding\u001b[0m\u001b[0;34m=\u001b[0m\u001b[0mencoding\u001b[0m\u001b[0;34m,\u001b[0m \u001b[0mnewline\u001b[0m\u001b[0;34m=\u001b[0m\u001b[0mnewline\u001b[0m\u001b[0;34m)\u001b[0m\u001b[0;34m\u001b[0m\u001b[0;34m\u001b[0m\u001b[0m\n\u001b[0m\u001b[1;32m    194\u001b[0m \u001b[0;34m\u001b[0m\u001b[0m\n\u001b[1;32m    195\u001b[0m \u001b[0;34m\u001b[0m\u001b[0m\n",
            "\u001b[0;32m/usr/local/lib/python3.10/dist-packages/numpy/lib/_datasource.py\u001b[0m in \u001b[0;36mopen\u001b[0;34m(self, path, mode, encoding, newline)\u001b[0m\n\u001b[1;32m    531\u001b[0m                                       encoding=encoding, newline=newline)\n\u001b[1;32m    532\u001b[0m         \u001b[0;32melse\u001b[0m\u001b[0;34m:\u001b[0m\u001b[0;34m\u001b[0m\u001b[0;34m\u001b[0m\u001b[0m\n\u001b[0;32m--> 533\u001b[0;31m             \u001b[0;32mraise\u001b[0m \u001b[0mFileNotFoundError\u001b[0m\u001b[0;34m(\u001b[0m\u001b[0;34mf\"{path} not found.\"\u001b[0m\u001b[0;34m)\u001b[0m\u001b[0;34m\u001b[0m\u001b[0;34m\u001b[0m\u001b[0m\n\u001b[0m\u001b[1;32m    534\u001b[0m \u001b[0;34m\u001b[0m\u001b[0m\n\u001b[1;32m    535\u001b[0m \u001b[0;34m\u001b[0m\u001b[0m\n",
            "\u001b[0;31mFileNotFoundError\u001b[0m: /content/drive/MyDrive/Dataset 2/features_pyeeg2_Data2.csv not found."
          ]
        }
      ],
      "source": [
        "# Reading the csv into an array (for the first features)\n",
        "nnfeatures = np.genfromtxt(\"/content/drive/MyDrive/Dataset 2/features_pyeeg2_Data2.csv\", delimiter=\",\")\n",
        "print(nnfeatures.shape)"
      ]
    },
    {
      "cell_type": "code",
      "execution_count": null,
      "metadata": {
        "colab": {
          "background_save": true
        },
        "id": "2aCy0rTA-M7W"
      },
      "outputs": [],
      "source": [
        "# Reading the csv into an array (for both features)\n",
        "nfeatures = np.genfromtxt(\"/content/drive/MyDrive/Dataset 2/ffffffeatures_pyeeg2_Data2.csv\", delimiter=\",\")\n",
        "print(nfeatures.shape)"
      ]
    },
    {
      "cell_type": "code",
      "execution_count": null,
      "metadata": {
        "colab": {
          "background_save": true
        },
        "id": "r4ZqbR8rNVSN"
      },
      "outputs": [],
      "source": [
        "import numpy as np\n",
        "import pandas as pd\n",
        "from sklearn.model_selection import train_test_split\n",
        "from sklearn.tree import DecisionTreeClassifier\n",
        "from sklearn.metrics import accuracy_score, classification_report, confusion_matrix\n",
        "import numpy as np\n",
        "from scipy import stats\n",
        "from sklearn.feature_selection import SelectKBest, f_classif\n",
        "from sklearn.ensemble import RandomForestClassifier\n",
        "from sklearn.model_selection import train_test_split\n",
        "from sklearn.metrics import accuracy_score, confusion_matrix\n",
        "import matplotlib.pyplot as plt  # Importing the 'pyplot' module\n",
        "import seaborn as sns\n",
        "import numpy as np\n",
        "from scipy import stats\n",
        "from sklearn.feature_selection import SelectKBest, f_classif, RFE\n",
        "from sklearn.linear_model import MultiTaskLasso, Lasso\n",
        "from sklearn.ensemble import RandomForestClassifier\n",
        "from sklearn.model_selection import train_test_split\n",
        "from sklearn.metrics import accuracy_score, confusion_matrix\n",
        "import matplotlib.pyplot as plt\n",
        "import seaborn as sns\n",
        "from sklearn.preprocessing import StandardScaler\n",
        "from sklearn.pipeline import Pipeline\n",
        "from sklearn.model_selection import train_test_split, GridSearchCV"
      ]
    },
    {
      "cell_type": "code",
      "execution_count": null,
      "metadata": {
        "colab": {
          "background_save": true
        },
        "id": "gCaKfSkBHAX8"
      },
      "outputs": [],
      "source": [
        "import numpy as np\n",
        "\n",
        "# Assuming nfeatures is your input numpy array\n",
        "# Replace NaN values with zeros\n",
        "nfeatures_cleaned = np.nan_to_num(nfeatures, nan=0.0)\n",
        "\n"
      ]
    },
    {
      "cell_type": "markdown",
      "metadata": {
        "id": "mbVTMARXsiAs"
      },
      "source": [
        "### Mariam"
      ]
    },
    {
      "cell_type": "code",
      "execution_count": null,
      "metadata": {
        "colab": {
          "background_save": true
        },
        "id": "D-KeWxDsqpI_"
      },
      "outputs": [],
      "source": [
        "X_train, X_test, y_train, y_test = train_test_split(nfeatures_cleaned, y, test_size=0.2, random_state=42)"
      ]
    },
    {
      "cell_type": "code",
      "execution_count": null,
      "metadata": {
        "colab": {
          "background_save": true
        },
        "id": "RnW6Ji8Xpc8-"
      },
      "outputs": [],
      "source": [
        "pipeline = Pipeline([\n",
        "                     ('scaler',StandardScaler()),\n",
        "                     ('model',Lasso())\n",
        "])\n",
        "search = GridSearchCV(pipeline,\n",
        "                      {'model__alpha':[0.00001, 0.0001, 0.001, 0.01, 0.1]},\n",
        "                      cv = 5, scoring=\"neg_mean_squared_error\",verbose=3\n",
        "                      )"
      ]
    },
    {
      "cell_type": "code",
      "execution_count": null,
      "metadata": {
        "colab": {
          "background_save": true
        },
        "id": "7YdLK0YvpnMR"
      },
      "outputs": [],
      "source": [
        "search.fit(X_train,y_train)\n",
        "search.best_params_"
      ]
    },
    {
      "cell_type": "code",
      "execution_count": null,
      "metadata": {
        "colab": {
          "background_save": true
        },
        "id": "ugdSXz8Xpuqr"
      },
      "outputs": [],
      "source": [
        "coefficients = search.best_estimator_.named_steps['model'].coef_\n",
        "importance = np.abs(coefficients)\n",
        "f = [i for i in range(X_train.shape[1])]\n"
      ]
    },
    {
      "cell_type": "code",
      "execution_count": null,
      "metadata": {
        "colab": {
          "background_save": true
        },
        "id": "IAI8qNI9y2F5"
      },
      "outputs": [],
      "source": [
        "sel = np.array(f)[importance > 0.02]\n",
        "sel.shape"
      ]
    },
    {
      "cell_type": "code",
      "execution_count": null,
      "metadata": {
        "colab": {
          "background_save": true
        },
        "id": "DJ_QBexUkbuz"
      },
      "outputs": [],
      "source": [
        "sel"
      ]
    },
    {
      "cell_type": "code",
      "execution_count": null,
      "metadata": {
        "colab": {
          "background_save": true
        },
        "id": "pAtF6oVKwBlP"
      },
      "outputs": [],
      "source": [
        "X_train_lasso_selected = X_train[:, sel]\n",
        "X_test_lasso_selected = X_test[:, sel]\n",
        "X_train_lasso_selected.shape"
      ]
    },
    {
      "cell_type": "code",
      "execution_count": null,
      "metadata": {
        "colab": {
          "background_save": true
        },
        "id": "yu8kh5GIeAHz"
      },
      "outputs": [],
      "source": [
        "from sklearn.svm import SVC\n",
        "from sklearn.pipeline import Pipeline\n",
        "from sklearn.preprocessing import StandardScaler\n",
        "from sklearn.linear_model import LogisticRegression\n",
        "from sklearn.tree import DecisionTreeClassifier\n",
        "from sklearn.model_selection import GridSearchCV\n",
        "from sklearn.ensemble import RandomForestClassifier, GradientBoostingClassifier\n",
        "from sklearn.neighbors import KNeighborsClassifier\n",
        "from sklearn.metrics import accuracy_score,precision_score, recall_score, f1_score, roc_auc_score\n",
        "from sklearn.gaussian_process import GaussianProcessClassifier\n",
        "from sklearn.gaussian_process.kernels import RBF\n",
        "from sklearn.neural_network import MLPClassifier\n",
        "import matplotlib.pyplot as plt\n"
      ]
    },
    {
      "cell_type": "code",
      "execution_count": null,
      "metadata": {
        "colab": {
          "background_save": true
        },
        "id": "iXe82LgXO4Zo",
        "outputId": "ab1fb0ed-58ab-42bc-aa75-157f15bfe29c"
      },
      "outputs": [
        {
          "name": "stderr",
          "output_type": "stream",
          "text": [
            "/usr/local/lib/python3.10/dist-packages/sklearn/linear_model/_logistic.py:458: ConvergenceWarning: lbfgs failed to converge (status=1):\n",
            "STOP: TOTAL NO. of ITERATIONS REACHED LIMIT.\n",
            "\n",
            "Increase the number of iterations (max_iter) or scale the data as shown in:\n",
            "    https://scikit-learn.org/stable/modules/preprocessing.html\n",
            "Please also refer to the documentation for alternative solver options:\n",
            "    https://scikit-learn.org/stable/modules/linear_model.html#logistic-regression\n",
            "  n_iter_i = _check_optimize_result(\n",
            "/usr/local/lib/python3.10/dist-packages/sklearn/linear_model/_logistic.py:458: ConvergenceWarning: lbfgs failed to converge (status=1):\n",
            "STOP: TOTAL NO. of ITERATIONS REACHED LIMIT.\n",
            "\n",
            "Increase the number of iterations (max_iter) or scale the data as shown in:\n",
            "    https://scikit-learn.org/stable/modules/preprocessing.html\n",
            "Please also refer to the documentation for alternative solver options:\n",
            "    https://scikit-learn.org/stable/modules/linear_model.html#logistic-regression\n",
            "  n_iter_i = _check_optimize_result(\n",
            "/usr/local/lib/python3.10/dist-packages/sklearn/linear_model/_logistic.py:458: ConvergenceWarning: lbfgs failed to converge (status=1):\n",
            "STOP: TOTAL NO. of ITERATIONS REACHED LIMIT.\n",
            "\n",
            "Increase the number of iterations (max_iter) or scale the data as shown in:\n",
            "    https://scikit-learn.org/stable/modules/preprocessing.html\n",
            "Please also refer to the documentation for alternative solver options:\n",
            "    https://scikit-learn.org/stable/modules/linear_model.html#logistic-regression\n",
            "  n_iter_i = _check_optimize_result(\n",
            "/usr/local/lib/python3.10/dist-packages/sklearn/linear_model/_logistic.py:458: ConvergenceWarning: lbfgs failed to converge (status=1):\n",
            "STOP: TOTAL NO. of ITERATIONS REACHED LIMIT.\n",
            "\n",
            "Increase the number of iterations (max_iter) or scale the data as shown in:\n",
            "    https://scikit-learn.org/stable/modules/preprocessing.html\n",
            "Please also refer to the documentation for alternative solver options:\n",
            "    https://scikit-learn.org/stable/modules/linear_model.html#logistic-regression\n",
            "  n_iter_i = _check_optimize_result(\n",
            "/usr/local/lib/python3.10/dist-packages/sklearn/linear_model/_logistic.py:458: ConvergenceWarning: lbfgs failed to converge (status=1):\n",
            "STOP: TOTAL NO. of ITERATIONS REACHED LIMIT.\n",
            "\n",
            "Increase the number of iterations (max_iter) or scale the data as shown in:\n",
            "    https://scikit-learn.org/stable/modules/preprocessing.html\n",
            "Please also refer to the documentation for alternative solver options:\n",
            "    https://scikit-learn.org/stable/modules/linear_model.html#logistic-regression\n",
            "  n_iter_i = _check_optimize_result(\n",
            "/usr/local/lib/python3.10/dist-packages/sklearn/linear_model/_logistic.py:458: ConvergenceWarning: lbfgs failed to converge (status=1):\n",
            "STOP: TOTAL NO. of ITERATIONS REACHED LIMIT.\n",
            "\n",
            "Increase the number of iterations (max_iter) or scale the data as shown in:\n",
            "    https://scikit-learn.org/stable/modules/preprocessing.html\n",
            "Please also refer to the documentation for alternative solver options:\n",
            "    https://scikit-learn.org/stable/modules/linear_model.html#logistic-regression\n",
            "  n_iter_i = _check_optimize_result(\n",
            "<ipython-input-53-6f38daeb6b2c>:50: FutureWarning: The frame.append method is deprecated and will be removed from pandas in a future version. Use pandas.concat instead.\n",
            "  results = results.append({'Model': name, 'Parameters': grid.best_params_, 'Accuracy': acc,'Precision':precision,'Recall':recall,'F1':f1,'AURoc':auroc}, ignore_index=True)\n"
          ]
        },
        {
          "name": "stdout",
          "output_type": "stream",
          "text": [
            "                 Model Parameters  Accuracy  Precision   Recall        F1  \\\n",
            "0  Logistic Regression         {}  0.822887   0.844994  0.91637  0.879236   \n",
            "\n",
            "      AURoc  \n",
            "0  0.758682  \n"
          ]
        },
        {
          "data": {
            "image/png": "[encoded data removed]",
            "text/plain": [
              "<Figure size 800x600 with 2 Axes>"
            ]
          },
          "metadata": {},
          "output_type": "display_data"
        }
      ],
      "source": [
        "#LASSO (alpha = 0.001) importance > 0.02\n",
        "import time\n",
        "start_time = time.time()\n",
        "models = { 'Logistic Regression': LogisticRegression(),\n",
        "            'SVC': SVC(),\n",
        "           'Random Forest': RandomForestClassifier(),\n",
        "           'KNeighbors':KNeighborsClassifier(),\n",
        "           #'Gradient Boosting':GradientBoostingClassifier(),\n",
        "            'Decision Tree':DecisionTreeClassifier(),\n",
        "          #'MLPClassifier': MLPClassifier()\n",
        "          }\n",
        "\n",
        "\n",
        "params = { 'Logistic Regression': {},\n",
        "          'SVC': {'svc__C': [0.1, 1, 10], 'svc__kernel': ['linear', 'rbf','poly']},\n",
        "           'Random Forest': {'randomforest__n_estimators': [15, 30, 60, 120],\n",
        "                            'randomforest__max_depth': [None, 2, 3, 5, 10],\n",
        "                            'randomforest__min_samples_leaf': [None, 1, 3, 10],\n",
        "                            'randomforest__min_samples_split': [None, 2, 3, 10]},\n",
        "           'KNeighbors':{'kneighbors__n_neighbors': [1,3,5,10,15],\n",
        "                      'kneighbors__leaf_size':[1,3,5], 'kneighbors__p':[1]},\n",
        "           #'Gradient Boosting':{},\n",
        "           'Decision Tree':{'decisiontree__max_features': [None, 5, 10], 'decisiontree__criterion': ['gini', 'entropy']}}\n",
        "#'MLPClassifier':{'mlpclassifier__solver':['sgd', 'adam'],\n",
        " #                         'mlpclassifier__activation':['relu', 'tanh'],\n",
        "  #                        'mlpclassifier__alpha':[0.01, 0.05, 0.001, 0.005, 0.0001],\n",
        "   #                       'mlpclassifier__hidden_layer_sizes':[(50,50,50), (50,100,50), (100,),],\n",
        "\n",
        "\n",
        "\n",
        "\n",
        "results = pd.DataFrame(columns=['Model', 'Parameters', 'Accuracy'])\n",
        "for name, model in models.items():\n",
        "  pipe = Pipeline([('scaler', StandardScaler()),(name.lower().replace(' ',''), model)])\n",
        "  grid = GridSearchCV(pipe, params[name], cv=5, scoring='accuracy')\n",
        "\n",
        "  # Fit the gridsearchcv on the train data\n",
        "  grid.fit(X_train_lasso_selected, y_train)\n",
        "\n",
        "  # Predict on the test data\n",
        "  y_pred = grid.predict(X_test_lasso_selected)\n",
        "\n",
        "  # Compute the accuracy score\n",
        "  acc = accuracy_score(y_test, y_pred)\n",
        "  precision = precision_score(y_test, y_pred)\n",
        "  recall = recall_score(y_test, y_pred)\n",
        "  f1 = f1_score(y_test, y_pred)\n",
        "  auroc = roc_auc_score(y_test, y_pred)\n",
        "  # Append the results to the dataframe\n",
        "  results = results.append({'Model': name, 'Parameters': grid.best_params_, 'Accuracy': acc,'Precision':precision,'Recall':recall,'F1':f1,'AURoc':auroc}, ignore_index=True)\n",
        "  print(results)\n",
        "\n",
        "  # Confusion matrix\n",
        "  from sklearn import metrics\n",
        "  confusion_matrix = metrics.confusion_matrix(y_test, y_pred)\n",
        "  plt.figure(figsize=(8, 6))\n",
        "  sns.heatmap(confusion_matrix, annot=True, fmt=\"d\", cmap=\"Blues\")\n",
        "  plt.title(\"Confusion Matrix\")\n",
        "  plt.xlabel(\"Predicted Labels\")\n",
        "  plt.ylabel(\"True Labels\")\n",
        "  plt.show()\n",
        "\n",
        "test_4=pd.DataFrame({'actual':y_test, 'pred':y_pred})\n",
        "results = results.sort_values(by='Accuracy', ascending=False)\n",
        "#end_time = time.time()\n",
        "results"
      ]
    },
    {
      "cell_type": "code",
      "execution_count": null,
      "metadata": {
        "colab": {
          "background_save": true
        },
        "id": "VbuoHZAD9-7X",
        "outputId": "21ffaca5-8a24-4713-911c-1e54672bbe08"
      },
      "outputs": [
        {
          "ename": "NameError",
          "evalue": "ignored",
          "output_type": "error",
          "traceback": [
            "\u001b[0;31m---------------------------------------------------------------------------\u001b[0m",
            "\u001b[0;31mNameError\u001b[0m                                 Traceback (most recent call last)",
            "\u001b[0;32m<ipython-input-3-d245ea4d2104>\u001b[0m in \u001b[0;36m<cell line: 1>\u001b[0;34m()\u001b[0m\n\u001b[0;32m----> 1\u001b[0;31m \u001b[0mLogisticRegression\u001b[0m\u001b[0;34m(\u001b[0m\u001b[0;34m)\u001b[0m\u001b[0;34m.\u001b[0m\u001b[0mget_params\u001b[0m\u001b[0;34m(\u001b[0m\u001b[0;34m)\u001b[0m\u001b[0;34m\u001b[0m\u001b[0;34m\u001b[0m\u001b[0m\n\u001b[0m",
            "\u001b[0;31mNameError\u001b[0m: name 'LogisticRegression' is not defined"
          ]
        }
      ],
      "source": [
        "LogisticRegression().get_params()"
      ]
    },
    {
      "cell_type": "code",
      "execution_count": null,
      "metadata": {
        "colab": {
          "background_save": true
        },
        "id": "IuUz_uoQzval",
        "outputId": "6167694c-4ead-431a-be21-395392fc591a"
      },
      "outputs": [
        {
          "ename": "NameError",
          "evalue": "ignored",
          "output_type": "error",
          "traceback": [
            "\u001b[0;31m---------------------------------------------------------------------------\u001b[0m",
            "\u001b[0;31mNameError\u001b[0m                                 Traceback (most recent call last)",
            "\u001b[0;32m<ipython-input-1-011b3510a0ca>\u001b[0m in \u001b[0;36m<cell line: 1>\u001b[0;34m()\u001b[0m\n\u001b[0;32m----> 1\u001b[0;31m \u001b[0mSVC\u001b[0m\u001b[0;34m(\u001b[0m\u001b[0;34m)\u001b[0m\u001b[0;34m.\u001b[0m\u001b[0mget_params\u001b[0m\u001b[0;34m(\u001b[0m\u001b[0;34m)\u001b[0m\u001b[0;34m\u001b[0m\u001b[0;34m\u001b[0m\u001b[0m\n\u001b[0m",
            "\u001b[0;31mNameError\u001b[0m: name 'SVC' is not defined"
          ]
        }
      ],
      "source": [
        "SVC().get_params()"
      ]
    },
    {
      "cell_type": "code",
      "execution_count": null,
      "metadata": {
        "colab": {
          "background_save": true
        },
        "id": "-CxJck2Szy2P",
        "outputId": "5212fc41-7888-4f02-e893-f0e826548a00"
      },
      "outputs": [
        {
          "ename": "NameError",
          "evalue": "ignored",
          "output_type": "error",
          "traceback": [
            "\u001b[0;31m---------------------------------------------------------------------------\u001b[0m",
            "\u001b[0;31mNameError\u001b[0m                                 Traceback (most recent call last)",
            "\u001b[0;32m<ipython-input-2-2465d569ed50>\u001b[0m in \u001b[0;36m<cell line: 1>\u001b[0;34m()\u001b[0m\n\u001b[0;32m----> 1\u001b[0;31m \u001b[0mDecisionTreeClassifier\u001b[0m\u001b[0;34m(\u001b[0m\u001b[0;34m)\u001b[0m\u001b[0;34m.\u001b[0m\u001b[0mget_params\u001b[0m\u001b[0;34m(\u001b[0m\u001b[0;34m)\u001b[0m\u001b[0;34m\u001b[0m\u001b[0;34m\u001b[0m\u001b[0m\n\u001b[0m",
            "\u001b[0;31mNameError\u001b[0m: name 'DecisionTreeClassifier' is not defined"
          ]
        }
      ],
      "source": [
        "DecisionTreeClassifier().get_params()"
      ]
    },
    {
      "cell_type": "code",
      "execution_count": null,
      "metadata": {
        "colab": {
          "background_save": true
        },
        "id": "5619jpSnz015"
      },
      "outputs": [],
      "source": [
        "RandomForestClassifier().get_params()\n"
      ]
    },
    {
      "cell_type": "code",
      "execution_count": null,
      "metadata": {
        "colab": {
          "background_save": true
        },
        "id": "TBqxPT-9z2Wf"
      },
      "outputs": [],
      "source": [
        "KNeighborsClassifier().get_params()"
      ]
    },
    {
      "cell_type": "code",
      "execution_count": null,
      "metadata": {
        "colab": {
          "background_save": true
        },
        "id": "LcC2RYjs2h9k"
      },
      "outputs": [],
      "source": [
        "#LASSO (alpha = 0.001) importance > 0.02\n",
        "import time\n",
        "start_time = time.time()\n",
        "models = {# 'Logistic Regression': LogisticRegression(),\n",
        "          #  'Random Forest': RandomForestClassifier(),\n",
        "          #  'KNeighbors':KNeighborsClassifier(),\n",
        "          #  'Gradient Boosting':GradientBoostingClassifier(),\n",
        "            #'Decision Tree':DecisionTreeClassifier(),\n",
        "          'MLPClassifier': MLPClassifier()\n",
        "          }\n",
        "\n",
        "\n",
        "params = { #'Logistic Regression': {},\n",
        "          #  'Random Forest': {'randomforest__n_estimators': [15, 30, 60, 120],\n",
        "          #                   'randomforest__max_depth': [None, 2, 3, 5, 10],\n",
        "          #                   'randomforest__min_samples_leaf': [None, 1, 3, 10],\n",
        "          #                   'randomforest__min_samples_split': [None, 2, 3, 10]},\n",
        "          #  'KNeighbors':{'kneighbors__n_neighbors': [1,3,5,10,15],\n",
        "          #             'kneighbors__leaf_size':[1,3,5], 'kneighbors__p':[1]},\n",
        "          #  'Gradient Boosting':{},\n",
        "          #  'Decision Tree':{'decisiontree__max_features': [None, 5, 10], 'decisiontree__criterion': ['gini', 'entropy']}}\n",
        "'MLPClassifier':{'mlpclassifier__solver':['sgd', 'adam'],\n",
        "                         'mlpclassifier__activation':['relu', 'tanh'],\n",
        "                         'mlpclassifier__alpha':[0.01, 0.05, 0.001, 0.005, 0.0001],\n",
        "                         'mlpclassifier__hidden_layer_sizes':[(50,50,50), (50,100,50), (100,),],\n",
        "}\n",
        "}\n",
        "\n",
        "results = pd.DataFrame(columns=['Model', 'Parameters', 'Accuracy'])\n",
        "for name, model in models.items():\n",
        "  pipe = Pipeline([('scaler', StandardScaler()),(name.lower().replace(' ',''), model)])\n",
        "  grid = GridSearchCV(pipe, params[name], cv=5, scoring='accuracy')\n",
        "\n",
        "  # Fit the gridsearchcv on the train data\n",
        "  grid.fit(X_train_lasso_selected, y_train)\n",
        "\n",
        "  # Predict on the test data\n",
        "  y_pred = grid.predict(X_test_lasso_selected)\n",
        "\n",
        "  # Compute the accuracy score\n",
        "  acc = accuracy_score(y_test, y_pred)\n",
        "  precision = precision_score(y_test, y_pred)\n",
        "  recall = recall_score(y_test, y_pred)\n",
        "  f1 = f1_score(y_test, y_pred)\n",
        "  auroc = roc_auc_score(y_test, y_pred)\n",
        "  # Append the results to the dataframe\n",
        "  results = results.append({'Model': name, 'Parameters': grid.best_params_, 'Accuracy': acc,'Precision':precision,'Recall':recall,'F1':f1,'AURoc':auroc}, ignore_index=True)\n",
        "  print(results)\n",
        "\n",
        "  # Confusion matrix\n",
        "  from sklearn import metrics\n",
        "  confusion_matrix = metrics.confusion_matrix(y_test, y_pred)\n",
        "  plt.figure(figsize=(8, 6))\n",
        "  sns.heatmap(confusion_matrix, annot=True, fmt=\"d\", cmap=\"Blues\")\n",
        "  plt.title(\"Confusion Matrix\")\n",
        "  plt.xlabel(\"Predicted Labels\")\n",
        "  plt.ylabel(\"True Labels\")\n",
        "  plt.show()\n",
        "\n",
        "test_4=pd.DataFrame({'actual':y_test, 'pred':y_pred})\n",
        "results = results.sort_values(by='Accuracy', ascending=False)\n",
        "#end_time = time.time()\n",
        "results"
      ]
    },
    {
      "cell_type": "code",
      "execution_count": null,
      "metadata": {
        "colab": {
          "background_save": true
        },
        "id": "TAsDSsRsp1bP"
      },
      "outputs": [],
      "source": [
        "MLPClassifier().get_params()"
      ]
    }
  ],
  "metadata": {
    "colab": {
      "collapsed_sections": [
        "uiaSoDoz4oy0"
      ],
      "provenance": [],
      "include_colab_link": true
    },
    "kernelspec": {
      "display_name": "Python 3",
      "name": "python3"
    },
    "language_info": {
      "name": "python"
    }
  },
  "nbformat": 4,
  "nbformat_minor": 0
}